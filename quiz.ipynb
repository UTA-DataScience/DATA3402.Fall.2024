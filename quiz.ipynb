{
 "cells": [
  {
   "cell_type": "code",
   "execution_count": 15,
   "id": "e6c643de-76e0-4721-9b60-f91255f04df2",
   "metadata": {},
   "outputs": [],
   "source": [
    "def create_new_args0(args):\n",
    "    max_len=max(map(len, filter(lambda x:isinstance(x, list), args)))\n",
    "    new_args=[]\n",
    "    for a in args:\n",
    "        if not isinstance (a, list):\n",
    "            a0=[a] *max_len\n",
    "        elif len(a)==max_len:\n",
    "            a0=a\n",
    "        else:\n",
    "            print(\"Error: all list arguments must have the same length.\")\n",
    "            return\n",
    "        new_args.append(a0)\n",
    "    return new_args\n",
    "\n"
   ]
  },
  {
   "cell_type": "code",
   "execution_count": 16,
   "id": "1f9fd1ac-3b93-4452-88b8-2cc757c3fbb0",
   "metadata": {},
   "outputs": [
    {
     "data": {
      "text/plain": [
       "[[1, 2], [3, 4], [5, 5]]"
      ]
     },
     "execution_count": 16,
     "metadata": {},
     "output_type": "execute_result"
    }
   ],
   "source": [
    "create_new_args0([[1,2],[3,4],5])"
   ]
  },
  {
   "cell_type": "code",
   "execution_count": 17,
   "id": "4ec0e39c-4bbb-4e31-810e-42fc6f62ce73",
   "metadata": {},
   "outputs": [
    {
     "data": {
      "text/plain": [
       "[[4, 7], [7, 8], [10, 10]]"
      ]
     },
     "execution_count": 17,
     "metadata": {},
     "output_type": "execute_result"
    }
   ],
   "source": [
    "create_new_args0([[4,7],[7,8],10])"
   ]
  },
  {
   "cell_type": "code",
   "execution_count": 18,
   "id": "bb42d54b-4ab6-4713-9be2-2ca23fbaaed1",
   "metadata": {},
   "outputs": [
    {
     "name": "stdout",
     "output_type": "stream",
     "text": [
      "Error: all list arguments must have the same length.\n"
     ]
    }
   ],
   "source": [
    "create_new_args0([[4,7,8],[7,8],10])"
   ]
  }
 ],
 "metadata": {
  "kernelspec": {
   "display_name": "Python 3 (ipykernel)",
   "language": "python",
   "name": "python3"
  },
  "language_info": {
   "codemirror_mode": {
    "name": "ipython",
    "version": 3
   },
   "file_extension": ".py",
   "mimetype": "text/x-python",
   "name": "python",
   "nbconvert_exporter": "python",
   "pygments_lexer": "ipython3",
   "version": "3.12.1"
  }
 },
 "nbformat": 4,
 "nbformat_minor": 5
}
