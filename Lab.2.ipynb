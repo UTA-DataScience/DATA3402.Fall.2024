{
 "cells": [
  {
   "cell_type": "markdown",
   "metadata": {},
   "source": [
    "## Lab 2- Tic Tac Toe\n",
    "\n",
    "In this lab your will build a n x n Tic Tac Toe game. As you do the exercises, make sure your solutions work for any size Tic Tac Toe game. "
   ]
  },
  {
   "cell_type": "markdown",
   "metadata": {},
   "source": [
    "*Exercise 1:* Write a function that creates an n by n matrix (of list of lists) which will represent the state of a Tie Tac Toe game. Let 0, 1, and 2 represent empty, \"X\", and \"O\", respectively.\n"
   ]
  },
  {
   "cell_type": "code",
   "execution_count": 2,
   "metadata": {},
   "outputs": [],
   "source": [
    "# Write you solution here\n",
    "empty=0\n",
    "player_X=1\n",
    "player_O=2\n",
    "def create_matrix(n):\n",
    "    return[[0 for _ in range(n)] for _ in range(n)]"
   ]
  },
  {
   "cell_type": "code",
   "execution_count": 3,
   "metadata": {},
   "outputs": [
    {
     "name": "stdout",
     "output_type": "stream",
     "text": [
      "[1, 0, 0]\n",
      "[0, 2, 0]\n",
      "[0, 0, 1]\n"
     ]
    }
   ],
   "source": [
    "# Test your solution here\n",
    "board=create_matrix(3)\n",
    "board\n",
    "board[0][0] = 1 \n",
    "board[1][1] = 2  \n",
    "board[2][2] = 1\n",
    "for row in board:\n",
    "    print(row)"
   ]
  },
  {
   "cell_type": "markdown",
   "metadata": {},
   "source": [
    "*Exercise 2:* Write a function that takes 2 integers `n` and `m` as input and draws a `n` by `m` game board. For example the following is a 3x3 board:\n",
    "```\n",
    "   --- --- --- \n",
    "  |   |   |   | \n",
    "   --- --- ---  \n",
    "  |   |   |   | \n",
    "   --- --- ---  \n",
    "  |   |   |   | \n",
    "   --- --- --- \n",
    "   ```"
   ]
  },
  {
   "cell_type": "code",
   "execution_count": 4,
   "metadata": {},
   "outputs": [],
   "source": [
    "# Write you solution here\n",
    "def draw_board(n, m):\n",
    "    for i in range(n):\n",
    "        # Print the top border of the cells\n",
    "        print(\"   \" + \"  ---  \" * m)\n",
    "        \n",
    "        # Print the cells' borders\n",
    "        for _ in range(2):  # Each cell has two vertical borders\n",
    "            print(\"  |\" + \"      |\" * m)\n",
    "    \n",
    "    # Print the bottom border of the last row\n",
    "    print(\"   \" + \"  ---  \" * m)"
   ]
  },
  {
   "cell_type": "code",
   "execution_count": 5,
   "metadata": {},
   "outputs": [
    {
     "name": "stdout",
     "output_type": "stream",
     "text": [
      "     ---    ---    ---    ---  \n",
      "  |      |      |      |      |\n",
      "  |      |      |      |      |\n",
      "     ---    ---    ---    ---  \n",
      "  |      |      |      |      |\n",
      "  |      |      |      |      |\n",
      "     ---    ---    ---    ---  \n",
      "  |      |      |      |      |\n",
      "  |      |      |      |      |\n",
      "     ---    ---    ---    ---  \n",
      "  |      |      |      |      |\n",
      "  |      |      |      |      |\n",
      "     ---    ---    ---    ---  \n"
     ]
    }
   ],
   "source": [
    "# Test your solution here\n",
    "draw_board(4,4)"
   ]
  },
  {
   "cell_type": "markdown",
   "metadata": {},
   "source": [
    "*Exercise 3:* Modify exercise 2, so that it takes a matrix of the form from exercise 1 and draws a tic-tac-tie board with \"X\"s and \"O\"s.  "
   ]
  },
  {
   "cell_type": "code",
   "execution_count": 6,
   "metadata": {},
   "outputs": [],
   "source": [
    "# Write your solution\n",
    "def draw_tic_tac_toe_board(matrix):\n",
    "    symbols = {0: ' ', 1: 'X', 2: 'O'}\n",
    "    \n",
    "    for row in matrix:\n",
    "        print(' | '.join(symbols[cell] for cell in row))\n",
    "        print('-' * (len(row) * 4 - 1))"
   ]
  },
  {
   "cell_type": "code",
   "execution_count": 7,
   "metadata": {},
   "outputs": [
    {
     "name": "stdout",
     "output_type": "stream",
     "text": [
      "X |   |  \n",
      "-----------\n",
      "  | O |  \n",
      "-----------\n",
      "  |   | X\n",
      "-----------\n"
     ]
    }
   ],
   "source": [
    "# Test your solution here\n",
    "board[0][0] = 1 \n",
    "board[1][1] = 2  \n",
    "board[2][2] = 1\n",
    "draw_tic_tac_toe_board(board)"
   ]
  },
  {
   "cell_type": "markdown",
   "metadata": {},
   "source": [
    "*Exercise 4:* Write a function that takes a `n` by `n` matrix representing a tic-tac-toe game, and returns -1, 0, 1, or 2 indicating the game is incomplete, the game is a draw, player 1 has won, or player 2 has one, respectively. Here are some example inputs you can use to test your code:"
   ]
  },
  {
   "cell_type": "code",
   "execution_count": 8,
   "metadata": {},
   "outputs": [],
   "source": [
    "# Write you solution here\n",
    "def check_winner(matrix):\n",
    "    n = len(matrix)\n",
    "    \n",
    "    def check_line(line):\n",
    "        if all(cell == 1 for cell in line):\n",
    "            return 1\n",
    "        if all(cell == 2 for cell in line):\n",
    "            return 2\n",
    "        return 0\n",
    "    \n",
    "    def check_lines():\n",
    "        # Check rows and columns\n",
    "        for i in range(n):\n",
    "            row = matrix[i]\n",
    "            col = [matrix[j][i] for j in range(n)]\n",
    "            row_winner = check_line(row)\n",
    "            if row_winner != 0:\n",
    "                return row_winner\n",
    "            col_winner = check_line(col)\n",
    "            if col_winner != 0:\n",
    "                return col_winner\n",
    "        \n",
    "        # Check diagonals\n",
    "        main_diag = [matrix[i][i] for i in range(n)]\n",
    "        anti_diag = [matrix[i][n - 1 - i] for i in range(n)]\n",
    "        \n",
    "        if check_line(main_diag) != 0:\n",
    "            return check_line(main_diag)\n",
    "        if check_line(anti_diag) != 0:\n",
    "            return check_line(anti_diag)\n",
    "        \n",
    "        return 0\n",
    "    \n",
    "    winner = check_lines()\n",
    "    \n",
    "    if winner == 1:\n",
    "        print(\"Player 1 has won.\")\n",
    "        return 1\n",
    "    elif winner == 2:\n",
    "        print(\"Player 2 has won.\")\n",
    "        return 2\n",
    "    elif any(0 in row for row in matrix):\n",
    "        print(\"The game is incomplete.\")\n",
    "        return -1\n",
    "    else:\n",
    "        print(\"The game is a draw.\")\n",
    "        return 0\n"
   ]
  },
  {
   "cell_type": "code",
   "execution_count": 9,
   "metadata": {},
   "outputs": [
    {
     "name": "stdout",
     "output_type": "stream",
     "text": [
      "The game is incomplete.\n"
     ]
    },
    {
     "data": {
      "text/plain": [
       "-1"
      ]
     },
     "execution_count": 9,
     "metadata": {},
     "output_type": "execute_result"
    }
   ],
   "source": [
    "# Test your solution here\n",
    "(check_winner(board))"
   ]
  },
  {
   "cell_type": "code",
   "execution_count": 10,
   "metadata": {},
   "outputs": [],
   "source": [
    "winner_is_2 = [[2, 2, 0],\n",
    "\t[2, 1, 0],\n",
    "\t[2, 1, 1]]\n",
    "\n",
    "winner_is_1 = [[1, 2, 0],\n",
    "\t[2, 1, 0],\n",
    "\t[2, 1, 1]]\n",
    "\n",
    "winner_is_also_1 = [[0, 1, 0],\n",
    "\t[2, 1, 0],\n",
    "\t[2, 1, 1]]\n",
    "\n",
    "no_winner = [[1, 2, 0],\n",
    "\t[2, 1, 0],\n",
    "\t[2, 1, 2]]\n",
    "\n",
    "also_no_winner = [[1, 2, 0],\n",
    "\t[2, 1, 0],\n",
    "\t[2, 1, 0]]"
   ]
  },
  {
   "cell_type": "code",
   "execution_count": 11,
   "metadata": {},
   "outputs": [
    {
     "name": "stdout",
     "output_type": "stream",
     "text": [
      "Player 2 has won.\n"
     ]
    },
    {
     "data": {
      "text/plain": [
       "2"
      ]
     },
     "execution_count": 11,
     "metadata": {},
     "output_type": "execute_result"
    }
   ],
   "source": [
    "(check_winner(winner_is_2))"
   ]
  },
  {
   "cell_type": "code",
   "execution_count": 12,
   "metadata": {},
   "outputs": [
    {
     "name": "stdout",
     "output_type": "stream",
     "text": [
      "Player 1 has won.\n"
     ]
    },
    {
     "data": {
      "text/plain": [
       "1"
      ]
     },
     "execution_count": 12,
     "metadata": {},
     "output_type": "execute_result"
    }
   ],
   "source": [
    "(check_winner(winner_is_1))"
   ]
  },
  {
   "cell_type": "code",
   "execution_count": 13,
   "metadata": {},
   "outputs": [
    {
     "name": "stdout",
     "output_type": "stream",
     "text": [
      "Player 1 has won.\n"
     ]
    },
    {
     "data": {
      "text/plain": [
       "1"
      ]
     },
     "execution_count": 13,
     "metadata": {},
     "output_type": "execute_result"
    }
   ],
   "source": [
    "(check_winner(winner_is_also_1))"
   ]
  },
  {
   "cell_type": "code",
   "execution_count": 14,
   "metadata": {},
   "outputs": [
    {
     "name": "stdout",
     "output_type": "stream",
     "text": [
      "The game is incomplete.\n"
     ]
    },
    {
     "data": {
      "text/plain": [
       "-1"
      ]
     },
     "execution_count": 14,
     "metadata": {},
     "output_type": "execute_result"
    }
   ],
   "source": [
    "(check_winner(no_winner))"
   ]
  },
  {
   "cell_type": "markdown",
   "metadata": {},
   "source": [
    "*Exercise 5:* Write a function that takes a game board, player number, and `(x,y)` coordinates and places \"X\" or \"O\" in the correct location of the game board. Make sure that you only allow filling previously empty locations. Return `True` or `False` to indicate successful placement of \"X\" or \"O\"."
   ]
  },
  {
   "cell_type": "code",
   "execution_count": 15,
   "metadata": {},
   "outputs": [],
   "source": [
    "# Write you solution here\n",
    "\n",
    "board=create_matrix(3)\n",
    "def place_marker(board, player, x, y):\n",
    "    # Check if the coordinates are within bounds\n",
    "    if not (0 <= x < len(board) and 0 <= y < len(board[0])):\n",
    "        return False\n",
    "    \n",
    "    # Check if the position is empty\n",
    "    if board[x][y] == 0:\n",
    "        board[x][y] = player\n",
    "        return True\n",
    "    return False"
   ]
  },
  {
   "cell_type": "code",
   "execution_count": 16,
   "metadata": {},
   "outputs": [
    {
     "data": {
      "text/plain": [
       "True"
      ]
     },
     "execution_count": 16,
     "metadata": {},
     "output_type": "execute_result"
    }
   ],
   "source": [
    "# Test your solution here\n",
    "place_marker(board,1,1,2)"
   ]
  },
  {
   "cell_type": "markdown",
   "metadata": {},
   "source": [
    "*Exercise 6:* Modify Exercise 4 to show column and row labels so that players can specify location using \"A2\" or \"C1\"."
   ]
  },
  {
   "cell_type": "code",
   "execution_count": 17,
   "metadata": {},
   "outputs": [],
   "source": [
    "# Write you solution \n",
    "def draw_tic_tac_toe_board(matrix):\n",
    "    n = len(matrix)\n",
    "    column_labels = [chr(ord('A') + i) for i in range(n)]\n",
    "    print(\"  \" + \" \".join(column_labels))  # Print column labels\n",
    "    for i in range(n):\n",
    "        row_label = str(i + 1)\n",
    "        row_display = \" \".join({0: \".\", 1: \"X\", 2: \"O\"}[cell] for cell in matrix[i])\n",
    "        print(row_label + \" \" + row_display)\n",
    "        \n",
    "def place_marker(board, player, position):\n",
    "    # Convert position from \"A1\", \"B2\", etc., to matrix indices\n",
    "    if len(position) < 2:\n",
    "        return False\n",
    "    column_label, row_label = position[0].upper(), position[1:]\n",
    "    if not (column_label.isalpha() and row_label.isdigit()):\n",
    "        return False\n",
    "    \n",
    "    column_index = ord(column_label) - ord('A')\n",
    "    row_index = int(row_label) - 1\n",
    "    if not (0 <= row_index < len(board) and 0 <= column_index < len(board[0])):\n",
    "        return False\n",
    "    if board[row_index][column_index] == 0:\n",
    "        board[row_index][column_index] = player\n",
    "        return True\n",
    "    return False"
   ]
  },
  {
   "cell_type": "code",
   "execution_count": 18,
   "metadata": {},
   "outputs": [
    {
     "name": "stdout",
     "output_type": "stream",
     "text": [
      "  A B C\n",
      "1 . . .\n",
      "2 . . .\n",
      "3 . . .\n"
     ]
    }
   ],
   "source": [
    "# Test your solution here\n",
    "board= create_matrix(3)\n",
    "draw_tic_tac_toe_board(board)"
   ]
  },
  {
   "cell_type": "code",
   "execution_count": 19,
   "metadata": {},
   "outputs": [
    {
     "name": "stdout",
     "output_type": "stream",
     "text": [
      "  A B C\n",
      "1 X . .\n",
      "2 . . .\n",
      "3 . . .\n"
     ]
    }
   ],
   "source": [
    "place_marker(board, 1, \"A1\")\n",
    "draw_tic_tac_toe_board(board) "
   ]
  },
  {
   "cell_type": "markdown",
   "metadata": {},
   "source": [
    "*Exercise 7:* Write a function that takes a board, player number, and location specified as in exercise 6 and then calls exercise 5 to correctly modify the board.  "
   ]
  },
  {
   "cell_type": "code",
   "execution_count": 20,
   "metadata": {},
   "outputs": [],
   "source": [
    "# Write you solution here\n",
    "def update_board(board, player, location):\n",
    "    return place_marker(board, player, location)"
   ]
  },
  {
   "cell_type": "code",
   "execution_count": 21,
   "metadata": {},
   "outputs": [
    {
     "name": "stdout",
     "output_type": "stream",
     "text": [
      "Initial board:\n",
      "  A B C\n",
      "1 . . .\n",
      "2 . . .\n",
      "3 . . .\n"
     ]
    }
   ],
   "source": [
    "# Test your solution here\n",
    "board = create_matrix(3)\n",
    "print(\"Initial board:\")\n",
    "draw_tic_tac_toe_board(board)"
   ]
  },
  {
   "cell_type": "code",
   "execution_count": 22,
   "metadata": {},
   "outputs": [
    {
     "name": "stdout",
     "output_type": "stream",
     "text": [
      "\n",
      "Updating board with 'X' at A1:\n",
      "  A B C\n",
      "1 X . .\n",
      "2 . . .\n",
      "3 . . .\n",
      "\n",
      "Updating board with 'O' at B2:\n",
      "  A B C\n",
      "1 X . .\n",
      "2 . O .\n",
      "3 . . .\n"
     ]
    }
   ],
   "source": [
    "print(\"\\nUpdating board with 'X' at A1:\")\n",
    "update_board(board, 1, \"A1\")\n",
    "draw_tic_tac_toe_board(board)\n",
    "print(\"\\nUpdating board with 'O' at B2:\")\n",
    "update_board(board, 2, \"B2\")\n",
    "draw_tic_tac_toe_board(board)  "
   ]
  },
  {
   "cell_type": "markdown",
   "metadata": {},
   "source": [
    "*Exercise 8:* Write a function is called with a board and player number, takes input from the player using python's `input`, and modifies the board using your function from exercise 7. Note that you should keep asking for input until you have gotten a valid input that results in a valid move."
   ]
  },
  {
   "cell_type": "code",
   "execution_count": 25,
   "metadata": {},
   "outputs": [],
   "source": [
    "# Write you solution here\n",
    "def get_valid_move(board, player):\n",
    "    while True:\n",
    "        location = input(f\"Player {player}, enter your move: \").strip().upper()\n",
    "        \n",
    "        # Validate input format (e.g., \"A1\", \"C2\")\n",
    "        if len(location) < 2 or not location[0].isalpha() or not location[1:].isdigit():\n",
    "            print(\"Invalid format. Please use the format 'LetterNumber' (e.g., A1, B3).\")\n",
    "            continue\n",
    "        \n",
    "        # Call the update_board function to attempt to make the move\n",
    "        if update_board(board, player, location):\n",
    "            print(f\"Player {player} placed their marker at {location}.\")\n",
    "            break\n",
    "        else:\n",
    "            print(f\"Invalid move or cell already occupied. Try again.\")"
   ]
  },
  {
   "cell_type": "code",
   "execution_count": 26,
   "metadata": {},
   "outputs": [
    {
     "name": "stdout",
     "output_type": "stream",
     "text": [
      "Initial board:\n",
      "  A B C\n",
      "1 . . .\n",
      "2 . . .\n",
      "3 . . .\n"
     ]
    },
    {
     "name": "stdin",
     "output_type": "stream",
     "text": [
      "Player 1, enter your move:  A1\n"
     ]
    },
    {
     "name": "stdout",
     "output_type": "stream",
     "text": [
      "Player 1 placed their marker at A1.\n",
      "  A B C\n",
      "1 X . .\n",
      "2 . . .\n",
      "3 . . .\n"
     ]
    },
    {
     "name": "stdin",
     "output_type": "stream",
     "text": [
      "Player 2, enter your move:  B1\n"
     ]
    },
    {
     "name": "stdout",
     "output_type": "stream",
     "text": [
      "Player 2 placed their marker at B1.\n",
      "  A B C\n",
      "1 X O .\n",
      "2 . . .\n",
      "3 . . .\n"
     ]
    }
   ],
   "source": [
    "# Test your solution here\n",
    "board = create_matrix(3)\n",
    "print(\"Initial board:\")\n",
    "draw_tic_tac_toe_board(board)\n",
    "get_valid_move(board,1)\n",
    "draw_tic_tac_toe_board(board)\n",
    "get_valid_move(board, 2)\n",
    "draw_tic_tac_toe_board(board)"
   ]
  },
  {
   "cell_type": "markdown",
   "metadata": {},
   "source": [
    "*Exercise 9:* Use all of the previous exercises to implement a full tic-tac-toe game, where an appropriate board is drawn, 2 players are repeatedly asked for a location coordinates of where they wish to place a mark, and the game status is checked until a player wins or a draw occurs."
   ]
  },
  {
   "cell_type": "code",
   "execution_count": 27,
   "metadata": {},
   "outputs": [],
   "source": [
    "# Write you solution here\n",
    "def create_matrix(n):\n",
    "    return [[0 for _ in range(n)] for _ in range(n)]\n",
    "\n",
    "def draw_tic_tac_toe_board(matrix):\n",
    "    n = len(matrix)\n",
    "    column_labels = [chr(ord('A') + i) for i in range(n)]\n",
    "    print(\"  \" + \" \".join(column_labels))  # Print column labels\n",
    "    for i in range(n):\n",
    "        row_label = str(i + 1)\n",
    "        row_display = \" \".join({0: \".\", 1: \"X\", 2: \"O\"}[cell] for cell in matrix[i])\n",
    "        print(row_label + \" \" + row_display)\n",
    "\n",
    "def place_marker(board, player, position):\n",
    "    if len(position) < 2:\n",
    "        return False\n",
    "    column_label, row_label = position[0].upper(), position[1:]\n",
    "    if not (column_label.isalpha() and row_label.isdigit()):\n",
    "        return False\n",
    "    \n",
    "    column_index = ord(column_label) - ord('A')\n",
    "    row_index = int(row_label) - 1\n",
    "    \n",
    "    if not (0 <= row_index < len(board) and 0 <= column_index < len(board[0])):\n",
    "        return False\n",
    "    \n",
    "    if board[row_index][column_index] == 0:\n",
    "        board[row_index][column_index] = player\n",
    "        return True\n",
    "    \n",
    "    return False\n",
    "\n",
    "def check_game_status(matrix):\n",
    "    n = len(matrix)\n",
    "    \n",
    "    def check_winner(player):\n",
    "        # Check rows and columns\n",
    "        for i in range(n):\n",
    "            if all(matrix[i][j] == player for j in range(n)) or \\\n",
    "               all(matrix[j][i] == player for j in range(n)):\n",
    "                return True\n",
    "        # Check diagonals\n",
    "        if all(matrix[i][i] == player for i in range(n)) or \\\n",
    "           all(matrix[i][n - 1 - i] == player for i in range(n)):\n",
    "            return True\n",
    "        return False\n",
    "    \n",
    "    def is_board_full():\n",
    "        return all(matrix[i][j] != 0 for i in range(n) for j in range(n))\n",
    "    \n",
    "    if check_winner(1):\n",
    "        return 1  # Player 1 (X) wins\n",
    "    if check_winner(2):\n",
    "        return 2  # Player 2 (O) wins\n",
    "    if is_board_full():\n",
    "        return 0  # Draw\n",
    "    return -1  # Incomplete\n",
    "\n",
    "def update_board(board, player, location):\n",
    "    return place_marker(board, player, location)\n",
    "\n",
    "def get_valid_move(board, player):\n",
    "    while True:\n",
    "        location = input(f\"Player {player}, enter your move: \").strip().upper()\n",
    "        \n",
    "        if len(location) < 2 or not location[0].isalpha() or not location[1:].isdigit():\n",
    "            print(\"Invalid format. Please use the format 'LetterNumber' (e.g., A1, B3).\")\n",
    "            continue\n",
    "        \n",
    "        if update_board(board, player, location):\n",
    "            print(f\"Player {player} placed their marker at {location}.\")\n",
    "            break\n",
    "        else:\n",
    "            print(f\"Invalid move or cell already occupied. Try again.\")\n",
    "\n",
    "def play_game(n):\n",
    "    board = create_matrix(n)\n",
    "    current_player = 1\n",
    "    \n",
    "    while True:\n",
    "        draw_tic_tac_toe_board(board)\n",
    "        print(f\"\\nPlayer {current_player}'s turn:\")\n",
    "        get_valid_move(board, current_player)\n",
    "        \n",
    "        status = check_game_status(board)\n",
    "        \n",
    "        if status == 1:\n",
    "            draw_tic_tac_toe_board(board)\n",
    "            print(\"Player 1 (X) wins!\")\n",
    "            break\n",
    "        elif status == 2:\n",
    "            draw_tic_tac_toe_board(board)\n",
    "            print(\"Player 2 (O) wins!\")\n",
    "            break\n",
    "        elif status == 0:\n",
    "            draw_tic_tac_toe_board(board)\n",
    "            print(\"The game is a draw!\")\n",
    "            break\n",
    "        \n",
    "        # Switch players\n",
    "        current_player = 2 if current_player == 1 else 1"
   ]
  },
  {
   "cell_type": "code",
   "execution_count": 30,
   "metadata": {},
   "outputs": [
    {
     "name": "stdout",
     "output_type": "stream",
     "text": [
      "  A B C\n",
      "1 . . .\n",
      "2 . . .\n",
      "3 . . .\n",
      "\n",
      "Player 1's turn:\n"
     ]
    },
    {
     "name": "stdin",
     "output_type": "stream",
     "text": [
      "Player 1, enter your move:  A1\n"
     ]
    },
    {
     "name": "stdout",
     "output_type": "stream",
     "text": [
      "Player 1 placed their marker at A1.\n",
      "  A B C\n",
      "1 X . .\n",
      "2 . . .\n",
      "3 . . .\n",
      "\n",
      "Player 2's turn:\n"
     ]
    },
    {
     "name": "stdin",
     "output_type": "stream",
     "text": [
      "Player 2, enter your move:  C1\n"
     ]
    },
    {
     "name": "stdout",
     "output_type": "stream",
     "text": [
      "Player 2 placed their marker at C1.\n",
      "  A B C\n",
      "1 X . O\n",
      "2 . . .\n",
      "3 . . .\n",
      "\n",
      "Player 1's turn:\n"
     ]
    },
    {
     "name": "stdin",
     "output_type": "stream",
     "text": [
      "Player 1, enter your move:  A2\n"
     ]
    },
    {
     "name": "stdout",
     "output_type": "stream",
     "text": [
      "Player 1 placed their marker at A2.\n",
      "  A B C\n",
      "1 X . O\n",
      "2 X . .\n",
      "3 . . .\n",
      "\n",
      "Player 2's turn:\n"
     ]
    },
    {
     "name": "stdin",
     "output_type": "stream",
     "text": [
      "Player 2, enter your move:  A3\n"
     ]
    },
    {
     "name": "stdout",
     "output_type": "stream",
     "text": [
      "Player 2 placed their marker at A3.\n",
      "  A B C\n",
      "1 X . O\n",
      "2 X . .\n",
      "3 O . .\n",
      "\n",
      "Player 1's turn:\n"
     ]
    },
    {
     "name": "stdin",
     "output_type": "stream",
     "text": [
      "Player 1, enter your move:  B2\n"
     ]
    },
    {
     "name": "stdout",
     "output_type": "stream",
     "text": [
      "Player 1 placed their marker at B2.\n",
      "  A B C\n",
      "1 X . O\n",
      "2 X X .\n",
      "3 O . .\n",
      "\n",
      "Player 2's turn:\n"
     ]
    },
    {
     "name": "stdin",
     "output_type": "stream",
     "text": [
      "Player 2, enter your move:  C2\n"
     ]
    },
    {
     "name": "stdout",
     "output_type": "stream",
     "text": [
      "Player 2 placed their marker at C2.\n",
      "  A B C\n",
      "1 X . O\n",
      "2 X X O\n",
      "3 O . .\n",
      "\n",
      "Player 1's turn:\n"
     ]
    },
    {
     "name": "stdin",
     "output_type": "stream",
     "text": [
      "Player 1, enter your move:  C3\n"
     ]
    },
    {
     "name": "stdout",
     "output_type": "stream",
     "text": [
      "Player 1 placed their marker at C3.\n",
      "  A B C\n",
      "1 X . O\n",
      "2 X X O\n",
      "3 O . X\n",
      "Player 1 (X) wins!\n"
     ]
    }
   ],
   "source": [
    "# Test your solution here\n",
    "play_game(3)"
   ]
  },
  {
   "cell_type": "markdown",
   "metadata": {},
   "source": [
    "*Exercise 10:* Test that your game works for 5x5 Tic Tac Toe.  "
   ]
  },
  {
   "cell_type": "code",
   "execution_count": 31,
   "metadata": {},
   "outputs": [
    {
     "name": "stdout",
     "output_type": "stream",
     "text": [
      "  A B C D E\n",
      "1 . . . . .\n",
      "2 . . . . .\n",
      "3 . . . . .\n",
      "4 . . . . .\n",
      "5 . . . . .\n",
      "\n",
      "Player 1's turn:\n"
     ]
    },
    {
     "name": "stdin",
     "output_type": "stream",
     "text": [
      "Player 1, enter your move:  A1\n"
     ]
    },
    {
     "name": "stdout",
     "output_type": "stream",
     "text": [
      "Player 1 placed their marker at A1.\n",
      "  A B C D E\n",
      "1 X . . . .\n",
      "2 . . . . .\n",
      "3 . . . . .\n",
      "4 . . . . .\n",
      "5 . . . . .\n",
      "\n",
      "Player 2's turn:\n"
     ]
    },
    {
     "name": "stdin",
     "output_type": "stream",
     "text": [
      "Player 2, enter your move:  B1\n"
     ]
    },
    {
     "name": "stdout",
     "output_type": "stream",
     "text": [
      "Player 2 placed their marker at B1.\n",
      "  A B C D E\n",
      "1 X O . . .\n",
      "2 . . . . .\n",
      "3 . . . . .\n",
      "4 . . . . .\n",
      "5 . . . . .\n",
      "\n",
      "Player 1's turn:\n"
     ]
    },
    {
     "name": "stdin",
     "output_type": "stream",
     "text": [
      "Player 1, enter your move:  B2\n"
     ]
    },
    {
     "name": "stdout",
     "output_type": "stream",
     "text": [
      "Player 1 placed their marker at B2.\n",
      "  A B C D E\n",
      "1 X O . . .\n",
      "2 . X . . .\n",
      "3 . . . . .\n",
      "4 . . . . .\n",
      "5 . . . . .\n",
      "\n",
      "Player 2's turn:\n"
     ]
    },
    {
     "name": "stdin",
     "output_type": "stream",
     "text": [
      "Player 2, enter your move:  C4\n"
     ]
    },
    {
     "name": "stdout",
     "output_type": "stream",
     "text": [
      "Player 2 placed their marker at C4.\n",
      "  A B C D E\n",
      "1 X O . . .\n",
      "2 . X . . .\n",
      "3 . . . . .\n",
      "4 . . O . .\n",
      "5 . . . . .\n",
      "\n",
      "Player 1's turn:\n"
     ]
    },
    {
     "name": "stdin",
     "output_type": "stream",
     "text": [
      "Player 1, enter your move:  C3\n"
     ]
    },
    {
     "name": "stdout",
     "output_type": "stream",
     "text": [
      "Player 1 placed their marker at C3.\n",
      "  A B C D E\n",
      "1 X O . . .\n",
      "2 . X . . .\n",
      "3 . . X . .\n",
      "4 . . O . .\n",
      "5 . . . . .\n",
      "\n",
      "Player 2's turn:\n"
     ]
    },
    {
     "name": "stdin",
     "output_type": "stream",
     "text": [
      "Player 2, enter your move:  B4\n"
     ]
    },
    {
     "name": "stdout",
     "output_type": "stream",
     "text": [
      "Player 2 placed their marker at B4.\n",
      "  A B C D E\n",
      "1 X O . . .\n",
      "2 . X . . .\n",
      "3 . . X . .\n",
      "4 . O O . .\n",
      "5 . . . . .\n",
      "\n",
      "Player 1's turn:\n"
     ]
    },
    {
     "name": "stdin",
     "output_type": "stream",
     "text": [
      "Player 1, enter your move:  D5\n"
     ]
    },
    {
     "name": "stdout",
     "output_type": "stream",
     "text": [
      "Player 1 placed their marker at D5.\n",
      "  A B C D E\n",
      "1 X O . . .\n",
      "2 . X . . .\n",
      "3 . . X . .\n",
      "4 . O O . .\n",
      "5 . . . X .\n",
      "\n",
      "Player 2's turn:\n"
     ]
    },
    {
     "name": "stdin",
     "output_type": "stream",
     "text": [
      "Player 2, enter your move:  A4\n"
     ]
    },
    {
     "name": "stdout",
     "output_type": "stream",
     "text": [
      "Player 2 placed their marker at A4.\n",
      "  A B C D E\n",
      "1 X O . . .\n",
      "2 . X . . .\n",
      "3 . . X . .\n",
      "4 O O O . .\n",
      "5 . . . X .\n",
      "\n",
      "Player 1's turn:\n"
     ]
    },
    {
     "name": "stdin",
     "output_type": "stream",
     "text": [
      "Player 1, enter your move:  D4\n"
     ]
    },
    {
     "name": "stdout",
     "output_type": "stream",
     "text": [
      "Player 1 placed their marker at D4.\n",
      "  A B C D E\n",
      "1 X O . . .\n",
      "2 . X . . .\n",
      "3 . . X . .\n",
      "4 O O O X .\n",
      "5 . . . X .\n",
      "\n",
      "Player 2's turn:\n"
     ]
    },
    {
     "name": "stdin",
     "output_type": "stream",
     "text": [
      "Player 2, enter your move:  E1\n"
     ]
    },
    {
     "name": "stdout",
     "output_type": "stream",
     "text": [
      "Player 2 placed their marker at E1.\n",
      "  A B C D E\n",
      "1 X O . . O\n",
      "2 . X . . .\n",
      "3 . . X . .\n",
      "4 O O O X .\n",
      "5 . . . X .\n",
      "\n",
      "Player 1's turn:\n"
     ]
    },
    {
     "name": "stdin",
     "output_type": "stream",
     "text": [
      "Player 1, enter your move:  E5\n"
     ]
    },
    {
     "name": "stdout",
     "output_type": "stream",
     "text": [
      "Player 1 placed their marker at E5.\n",
      "  A B C D E\n",
      "1 X O . . O\n",
      "2 . X . . .\n",
      "3 . . X . .\n",
      "4 O O O X .\n",
      "5 . . . X X\n",
      "Player 1 (X) wins!\n"
     ]
    }
   ],
   "source": [
    "# Test your solution here\n",
    "play_game(5)"
   ]
  },
  {
   "cell_type": "markdown",
   "metadata": {},
   "source": [
    "*Exercise 11:* (Advanced / Challenge) Develop a version of the game where one player is the computer. Note that you don't need to do an extensive seach for the best move. You can have the computer simply protect against loosing and otherwise try to win with straight or diagonal patterns."
   ]
  },
  {
   "cell_type": "code",
   "execution_count": null,
   "metadata": {},
   "outputs": [],
   "source": [
    "# Write you solution here"
   ]
  },
  {
   "cell_type": "code",
   "execution_count": null,
   "metadata": {},
   "outputs": [],
   "source": [
    "# Test your solution here"
   ]
  }
 ],
 "metadata": {
  "kernelspec": {
   "display_name": "Python 3 (ipykernel)",
   "language": "python",
   "name": "python3"
  },
  "language_info": {
   "codemirror_mode": {
    "name": "ipython",
    "version": 3
   },
   "file_extension": ".py",
   "mimetype": "text/x-python",
   "name": "python",
   "nbconvert_exporter": "python",
   "pygments_lexer": "ipython3",
   "version": "3.12.1"
  }
 },
 "nbformat": 4,
 "nbformat_minor": 4
}
