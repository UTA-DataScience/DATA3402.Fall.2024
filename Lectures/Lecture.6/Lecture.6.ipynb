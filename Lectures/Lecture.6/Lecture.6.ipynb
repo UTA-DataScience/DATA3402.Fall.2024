{
 "cells": [
  {
   "cell_type": "markdown",
   "metadata": {},
   "source": [
    "# Probablity Theory\n",
    "\n",
    "## Why?\n",
    "\n",
    "* Experiments\n",
    "  * Observations\n",
    "  * Measurements\n",
    "* Theory\n",
    "  * Hypothesis\n",
    "  * Models\n",
    "* Quantify Uncertainty "
   ]
  },
  {
   "cell_type": "markdown",
   "metadata": {},
   "source": [
    "\n",
    "## What does it mean?\n",
    "* Probability Theory → Analyze frequency of “events”\n",
    "* Probability p of event x happening\n",
    "  * → Repeatable observations of event\n",
    "    * → p ~ fraction that x would be the outcome.\n",
    "  * Example: Fréquence of a disease in a population: 1 in 1000 → “Frequentist”\n",
    "* What if you got a test → How do you interpret? You can’t repeat.\n",
    "  * Accuracy of test\n",
    "  * Frequency of disease\n",
    "  * → Degree of belief → “Bayesian”"
   ]
  },
  {
   "cell_type": "markdown",
   "metadata": {},
   "source": [
    "## Basic Definitions\n",
    "\n",
    "* Set $S$ w subsets $A$ and $B$\n",
    "  * $P(S) = 1$ \n",
    "  * For all $\\forall A: A \\subset S \\Rightarrow P(A) > 0$ \n",
    "  * $P(\\bar{A}) = 1 - P(A)$\n",
    "    * Bar means not in A.\n",
    "    * $ P(A \\cup \\bar{A}) = 1$\n",
    "  * $P(\\emptyset) = 0$\n",
    "  \n",
    "  * If there is no overlap between sets $A$ and $B$\n",
    "    * $A \\cap B = \\emptyset \\Rightarrow P(A\\cup B) = P(A) + P(B)$ \n",
    "    * $\\cap$ is overlap\n",
    "    * $\\cup$ is union\n",
    "  * $ A \\subset B \\Rightarrow P(A)\\leq P(B)$\n",
    "     * $\\subset$ means subset\n",
    "  * $P(A\\cup B) = P(A) + P(B) - P(A\\cap B)$\n"
   ]
  },
  {
   "cell_type": "markdown",
   "metadata": {},
   "source": [
    "## Conditional Probablilty"
   ]
  },
  {
   "cell_type": "markdown",
   "metadata": {},
   "source": [
    "* $P(A | B) = \\frac{P(A\\cap B)}{P(B)}$\n",
    "* Example:\n",
    "    * Dice Roll (6-sided)\n",
    "    * You are told rolled 3 or less\n",
    "    * What is the Probability that you roled a 1?\n",
    "    * $P(1) = \\frac{P( < \\mbox{1 in 6 rolls})}{P(\\mbox{<3 in 6 rolls})} = \\frac{\\frac{1}{6}}{\\frac{3}{6}} = \\frac{1}{3}$.\n",
    "* If $A \\cup B = \\emptyset \\Rightarrow$\n",
    "    * $P(A,B) = P(A) P(B)$\n",
    "    * $P(A|B) = \\frac{P(A)P(B)}{P(B)} = P(A)$"
   ]
  },
  {
   "cell_type": "markdown",
   "metadata": {},
   "source": [
    "## Interpretation\n",
    "\n",
    "* Relative Frequency:\n",
    "    * $A,B$ are outcomes of a repeatable experiment\n",
    "    * $P(A) = \\lim_{n\\rightarrow \\infty} \\frac{\\mbox{Times outcome is } A} {n}$\n",
    "* Subjective Probabilty:\n",
    "    * $A,B$ are hypotheses (True/False) Statements.\n",
    "    * $P(A)$ is degree of belief that A is true."
   ]
  },
  {
   "cell_type": "markdown",
   "metadata": {},
   "source": [
    "## Bayes Theorem\n",
    "\n",
    "* $ P(A|B) = \\frac{P(A\\cap B)}{P(B)}$\n",
    "* $ P(B|A) = \\frac{P(B\\cap A)}{P(A)}$\n",
    "* Since $P(A\\cap B) = P(B\\cap A)$\n",
    "    * $\\Rightarrow P(A|B) P(B) = P(B|A) P(A)$\n",
    "    * $\\Rightarrow P(A|B) = \\frac{P(B|A)P(A)}{P(B)}$"
   ]
  },
  {
   "cell_type": "markdown",
   "metadata": {},
   "source": [
    "### Bayes Example\n",
    "Recall $\\Rightarrow P(A|B) = \\frac{P(B|A)P(A)}{P(B)}$\n",
    "\n",
    "* Example: Disease Testing\n",
    "   * Prior Knowledge about Population\n",
    "       * $A := \\{\\mbox{sick}, \\mbox{not sick}\\}$\n",
    "       * P(sick) = 0.001\n",
    "       * P(not sick) = 0.999\n",
    "   * Test\n",
    "       * $B := \\{+,-\\}$\n",
    "       * True Positive: P(+ | sick) = 0.98\n",
    "       * False Negative: P(- | sick) = 0.02\n",
    "       * False Positive: P(+ | not sick) = 0.03\n",
    "       * True Negative: P(- | not sick) = 0.97\n",
    "   * You get a postitive result -> what is the probablity that you are indeed sick?\n",
    "       * P(sick | +) = $\\frac{P(+|\\mbox{sick}) P(\\mbox{sick})}{P(+|\\mbox{sick}) P(\\mbox{sick}) + P(+|\\mbox{not sick}) P(\\mbox{not sick})}$\n",
    "       * P(sick | +) = $\\frac{ (0.98) (0.001)}{ (0.98) (0.001) + (0.03) (0.999)} = 0.032$ \n",
    "* Why: because of the prior.\n",
    "* So why should I ever believe a test?\n",
    "   * Because P( sick | symptoms) is high.\n",
    "       \n"
   ]
  },
  {
   "cell_type": "code",
   "execution_count": null,
   "metadata": {},
   "outputs": [],
   "source": []
  }
 ],
 "metadata": {
  "kernelspec": {
   "display_name": "Python 3 (ipykernel)",
   "language": "python",
   "name": "python3"
  },
  "language_info": {
   "codemirror_mode": {
    "name": "ipython",
    "version": 3
   },
   "file_extension": ".py",
   "mimetype": "text/x-python",
   "name": "python",
   "nbconvert_exporter": "python",
   "pygments_lexer": "ipython3",
   "version": "3.9.6"
  }
 },
 "nbformat": 4,
 "nbformat_minor": 2
}
