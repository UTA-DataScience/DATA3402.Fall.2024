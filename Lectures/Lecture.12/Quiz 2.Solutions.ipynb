{
 "cells": [
  {
   "cell_type": "markdown",
   "id": "e87282f0",
   "metadata": {},
   "source": [
    "## Quiz 2 From Lecture 12"
   ]
  },
  {
   "cell_type": "code",
   "execution_count": 1,
   "id": "acaec6fa",
   "metadata": {},
   "outputs": [],
   "source": [
    "# Write a function make_deck that returns a list of all of the cards in a standard card deck.\n",
    "# The return should be a list of tuples of pairs of suit and value. \n",
    "# For example the 10 of Clubs would be ('Clubs', 10) and Queen of Hearts would be ('Hearts', 'Queen'). \n",
    "# Recall that a deck has 52 cards, divided into 4 suits (Clubs, Diamonds, Hearts, and Spades), \n",
    "# and that each suit has 13 cards: 2 to 10, Jack, Queen, King, and Ace. \n",
    "# Summit your solution with Lab 5."
   ]
  },
  {
   "cell_type": "code",
   "execution_count": 9,
   "id": "02d61628",
   "metadata": {},
   "outputs": [],
   "source": [
    "def make_deck():\n",
    "    cards = [\"Hearts\", \"Clubs\", \"Diamonds\", \"Spades\"]\n",
    "    numbers = [1 , 2, 3, 4, 5, 6, 7, 8, 9, 10, \"Jack\", \"Queen\", \"King\"]\n",
    "    deck = []\n",
    "    \n",
    "    for suit in cards:\n",
    "        for a in numbers: \n",
    "            deck.append(f\"{a} of {suit}\")\n",
    "    \n",
    "    return deck\n",
    "        \n",
    "    "
   ]
  },
  {
   "cell_type": "code",
   "execution_count": 10,
   "id": "7b383c9f",
   "metadata": {},
   "outputs": [
    {
     "name": "stdout",
     "output_type": "stream",
     "text": [
      "1 of Hearts\n",
      "2 of Hearts\n",
      "3 of Hearts\n",
      "4 of Hearts\n",
      "5 of Hearts\n",
      "6 of Hearts\n",
      "7 of Hearts\n",
      "8 of Hearts\n",
      "9 of Hearts\n",
      "10 of Hearts\n",
      "Jack of Hearts\n",
      "Queen of Hearts\n",
      "King of Hearts\n",
      "1 of Clubs\n",
      "2 of Clubs\n",
      "3 of Clubs\n",
      "4 of Clubs\n",
      "5 of Clubs\n",
      "6 of Clubs\n",
      "7 of Clubs\n",
      "8 of Clubs\n",
      "9 of Clubs\n",
      "10 of Clubs\n",
      "Jack of Clubs\n",
      "Queen of Clubs\n",
      "King of Clubs\n",
      "1 of Diamonds\n",
      "2 of Diamonds\n",
      "3 of Diamonds\n",
      "4 of Diamonds\n",
      "5 of Diamonds\n",
      "6 of Diamonds\n",
      "7 of Diamonds\n",
      "8 of Diamonds\n",
      "9 of Diamonds\n",
      "10 of Diamonds\n",
      "Jack of Diamonds\n",
      "Queen of Diamonds\n",
      "King of Diamonds\n",
      "1 of Spades\n",
      "2 of Spades\n",
      "3 of Spades\n",
      "4 of Spades\n",
      "5 of Spades\n",
      "6 of Spades\n",
      "7 of Spades\n",
      "8 of Spades\n",
      "9 of Spades\n",
      "10 of Spades\n",
      "Jack of Spades\n",
      "Queen of Spades\n",
      "King of Spades\n"
     ]
    }
   ],
   "source": [
    "deck_of_cards = make_deck()\n",
    "for card in deck_of_cards:\n",
    "    print(card)"
   ]
  },
  {
   "cell_type": "code",
   "execution_count": null,
   "id": "c9f0a482",
   "metadata": {},
   "outputs": [],
   "source": []
  }
 ],
 "metadata": {
  "kernelspec": {
   "display_name": "Python 3 (ipykernel)",
   "language": "python",
   "name": "python3"
  },
  "language_info": {
   "codemirror_mode": {
    "name": "ipython",
    "version": 3
   },
   "file_extension": ".py",
   "mimetype": "text/x-python",
   "name": "python",
   "nbconvert_exporter": "python",
   "pygments_lexer": "ipython3",
   "version": "3.12.3"
  }
 },
 "nbformat": 4,
 "nbformat_minor": 5
}
