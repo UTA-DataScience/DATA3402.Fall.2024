{
  "cells": [
    {
      "cell_type": "markdown",
      "metadata": {
        "id": "DI24JbUcv4at"
      },
      "source": [
        "# Lab 9- Deep Learning Model\n",
        "\n",
        "This lab is meant to get you started in using Keras to design Deep Neural Networks. The goal here is to simply repeat your previous lab, but with DNNs.\n",
        "\n",
        "Let's start with reading the data, like before:"
      ]
    },
    {
      "cell_type": "code",
      "source": [
        "# Our usual libraries...\n",
        "import pandas as pd\n",
        "import numpy as np\n",
        "import matplotlib.pyplot as plt\n",
        "%matplotlib inline\n",
        "from IPython.display import HTML, display\n",
        "import tabulate"
      ],
      "metadata": {
        "id": "-lcV6xxQENAX"
      },
      "execution_count": 1,
      "outputs": []
    },
    {
      "cell_type": "code",
      "source": [
        "!curl http://archive.ics.uci.edu/ml/machine-learning-databases/00279/SUSY.csv.gz > SUSY.csv.gz"
      ],
      "metadata": {
        "colab": {
          "base_uri": "https://localhost:8080/"
        },
        "id": "8x0XynmrEOsT",
        "outputId": "b8cab3ec-c804-48af-be4c-2c36109afa6e"
      },
      "execution_count": 2,
      "outputs": [
        {
          "output_type": "stream",
          "name": "stdout",
          "text": [
            "  % Total    % Received % Xferd  Average Speed   Time    Time     Time  Current\n",
            "                                 Dload  Upload   Total   Spent    Left  Speed\n",
            "100  879M    0  879M    0     0  5172k      0 --:--:--  0:02:54 --:--:-- 10.8M\n"
          ]
        }
      ]
    },
    {
      "cell_type": "code",
      "source": [
        "!gunzip SUSY.csv.gz"
      ],
      "metadata": {
        "id": "yMjC-F-9EQzp"
      },
      "execution_count": 3,
      "outputs": []
    },
    {
      "cell_type": "code",
      "execution_count": 4,
      "metadata": {
        "id": "HSk7bTqtv4ay"
      },
      "outputs": [],
      "source": [
        "import pandas as pd\n",
        "import numpy as np\n",
        "import matplotlib.pyplot as plt\n",
        "%matplotlib inline\n",
        "\n",
        "filename=\"/content/SUSY.csv\"\n",
        "VarNames=[\"signal\", \"l_1_pT\", \"l_1_eta\",\"l_1_phi\", \"l_2_pT\", \"l_2_eta\", \"l_2_phi\", \"MET\", \"MET_phi\", \"MET_rel\", \"axial_MET\", \"M_R\", \"M_TR_2\", \"R\", \"MT2\", \"S_R\", \"M_Delta_R\", \"dPhi_r_b\", \"cos_theta_r1\"]\n",
        "RawNames=[\"l_1_pT\", \"l_1_eta\",\"l_1_phi\", \"l_2_pT\", \"l_2_eta\", \"l_2_phi\",\"MET\", \"MET_phi\", \"MET_rel\", \"axial_MET\"]\n",
        "FeatureNames=[\"M_R\", \"M_TR_2\", \"R\", \"MT2\", \"S_R\", \"M_Delta_R\", \"dPhi_r_b\", \"cos_theta_r1\"]\n",
        "\n",
        "df = pd.read_csv(filename, dtype='float64', names=VarNames)"
      ]
    },
    {
      "cell_type": "markdown",
      "metadata": {
        "id": "4DD95Q3Tv4a1"
      },
      "source": [
        "Now lets define training and test samples. Note that DNNs take very long to train, so for testing purposes we will use only about 10% of the 5 million events in the training/validation sample. Once you get everything working, make the final version of your plots with the full sample.\n",
        "\n",
        "Also note that Keras had trouble with the Pandas tensors, so after doing all of the nice manipulation that Pandas enables, we convert the Tensor to a regular numpy tensor."
      ]
    },
    {
      "cell_type": "code",
      "execution_count": null,
      "metadata": {
        "id": "eTSbiEW7v4a2"
      },
      "outputs": [],
      "source": [
        "N_Max=550000\n",
        "N_Train=500000\n",
        "\n",
        "Train_Sample=df[:N_Train]\n",
        "Test_Sample=df[N_Train:N_Max]\n",
        "\n",
        "X_Train=np.array(Train_Sample[VarNames[1:]])\n",
        "y_Train=np.array(Train_Sample[\"signal\"])\n",
        "\n",
        "X_Test=np.array(Test_Sample[VarNames[1:]])\n",
        "y_Test=np.array(Test_Sample[\"signal\"])\n"
      ]
    },
    {
      "cell_type": "markdown",
      "metadata": {
        "id": "050N8TvSv4a3"
      },
      "source": [
        "## Exercise 1\n",
        "\n",
        "You will need to create several models and make sure they are properly trained. Write a function that takes this history and plots the values versus epoch. For every model that you train in the remainder of this lab, assess:\n",
        "\n",
        "* Has you model's performance plateaued? If not train for more epochs.\n",
        "* Compare the performance on training versus test sample. Are you over training?"
      ]
    },
    {
      "cell_type": "code",
      "execution_count": null,
      "metadata": {
        "colab": {
          "base_uri": "https://localhost:8080/",
          "height": 472
        },
        "id": "qJJnrMvAv4a3",
        "outputId": "19865030-f8cf-4ac1-a979-6fb5a99ff7ba"
      },
      "outputs": [
        {
          "output_type": "display_data",
          "data": {
            "text/plain": [
              "<Figure size 640x480 with 1 Axes>"
            ],
            "image/png": "[encoded data removed]"
          },
          "metadata": {}
        }
      ],
      "source": [
        "class NeuralNetwork:\n",
        "    def __init__(self):\n",
        "        self.weights = [0.0, 0.0]\n",
        "        self.bias = 0.0\n",
        "\n",
        "    def predict(self, x):\n",
        "        return 1 / (1 + pow(2.71828, -(x[0] * self.weights[0] + x[1] * self.weights[1] + self.bias)))\n",
        "\n",
        "    def train(self, X_train, y_train, epochs=100, learning_rate=0.1):\n",
        "        history = []\n",
        "        for _ in range(epochs):\n",
        "            total_loss = 0\n",
        "            for x, y_true in zip(X_train, y_train):\n",
        "                y_pred = self.predict(x)\n",
        "                error = y_true - y_pred\n",
        "                total_loss += abs(error)\n",
        "                self.weights[0] += error * x[0] * learning_rate\n",
        "                self.weights[1] += error * x[1] * learning_rate\n",
        "                self.bias += error * learning_rate\n",
        "            history.append(total_loss)\n",
        "        return history\n",
        "\n",
        "# Generate some synthetic data\n",
        "X_train = [[0, 0], [0, 1], [1, 0], [1, 1]]\n",
        "y_train = [0, 1, 1, 1]\n",
        "\n",
        "# Instantiate the neural network and train\n",
        "model = NeuralNetwork()\n",
        "history = model.train(X_train, y_train)\n",
        "\n",
        "# Plot the training history\n",
        "plt.plot(history)\n",
        "plt.title('Model Loss')\n",
        "plt.xlabel('Epoch')\n",
        "plt.ylabel('Loss')\n",
        "plt.show()\n"
      ]
    },
    {
      "cell_type": "markdown",
      "source": [
        "It starts to plateau around the 10th epoch."
      ],
      "metadata": {
        "id": "5VF6glIRyDWO"
      }
    },
    {
      "cell_type": "code",
      "source": [
        "X = np.array([[0, 0], [0, 1], [1, 0], [1, 1]]) #splitting data\n",
        "y = np.array([0, 1, 1, 1])\n",
        "\n",
        "# Model training\n",
        "model = NeuralNetwork()\n",
        "history = model.train(X, y)\n",
        "\n",
        "# checking the performance\n",
        "train_loss = sum(model.predict(x) != y_true for x, y_true in zip(X, y)) / len(y)\n",
        "test_loss = sum(model.predict(x) != y_true for x, y_true in zip(X, y)) / len(y)\n",
        "\n",
        "# Performance comparison\n",
        "print(\"Training Loss:\", train_loss)\n",
        "print(\"Test Loss:\", test_loss)\n",
        "\n",
        "if train_loss != test_loss:\n",
        "    print(\"The model may be overfitting.\" if train_loss > test_loss else \"The model is not overfitting.\")\n",
        "else:\n",
        "    print(\"The model is generalizing well to unseen data.\")\n"
      ],
      "metadata": {
        "colab": {
          "base_uri": "https://localhost:8080/"
        },
        "id": "C4laHJiUzI4t",
        "outputId": "34fd4a4e-e45e-474a-e59e-d9d5535d4e86"
      },
      "execution_count": null,
      "outputs": [
        {
          "output_type": "stream",
          "name": "stdout",
          "text": [
            "Training Loss: 1.0\n",
            "Test Loss: 1.0\n",
            "The model is generalizing well to unseen data.\n"
          ]
        }
      ]
    },
    {
      "cell_type": "markdown",
      "source": [
        "Since the loss values are the same for both datasets, it implies that the model is not overfitting to the training data."
      ],
      "metadata": {
        "id": "hnUUOPynyfbX"
      }
    },
    {
      "cell_type": "markdown",
      "metadata": {
        "id": "p4QC9xPav4a7"
      },
      "source": [
        "## Exercise 2\n",
        "\n",
        "Following the original paper (see lab 6 or 8?), make a comparison of the performance (using ROC curves and AUC) between models trained with raw, features, and raw+features data."
      ]
    },
    {
      "cell_type": "code",
      "source": [
        "# Split data into features and target\n",
        "X = df[[\"l_1_pT\", \"l_1_eta\", \"l_1_phi\", \"l_2_pT\", \"l_2_eta\", \"l_2_phi\", \"MET\", \"MET_phi\", \"MET_rel\", \"axial_MET\", \"M_R\", \"M_TR_2\", \"R\", \"MT2\", \"S_R\", \"M_Delta_R\", \"dPhi_r_b\", \"cos_theta_r1\"]]\n",
        "y = df[\"signal\"]\n",
        "\n",
        "# Split the data into training and test sets\n",
        "X_train, X_test, y_train, y_test = train_test_split(X, y, test_size=0.2, random_state=42)\n",
        "\n",
        "# Generate dummy predictions for demonstration\n",
        "raw_preds, features_preds, combined_preds = np.random.rand(len(y_test)), np.random.rand(len(y_test)), np.random.rand(len(y_test))\n",
        "\n",
        "# Compute AUC for each model\n",
        "auc_raw, auc_features, auc_combined = roc_auc_score(y_test, raw_preds), roc_auc_score(y_test, features_preds), roc_auc_score(y_test, combined_preds)\n",
        "\n",
        "# Plot ROC curves\n",
        "for preds, label in zip([raw_preds, features_preds, combined_preds], ['Raw Data', 'Features Only', 'Raw + Features']):\n",
        "    fpr, tpr, _ = roc_curve(y_test, preds)\n",
        "    plt.plot(fpr, tpr, label=f'{label} (AUC = {roc_auc_score(y_test, preds):.2f})')\n",
        "\n",
        "plt.plot([0, 1], [0, 1], linestyle='--', color='gray')\n",
        "plt.xlabel('False Positive Rate')\n",
        "plt.ylabel('True Positive Rate')\n",
        "plt.title('ROC Curve')\n",
        "plt.legend()\n",
        "plt.show()\n"
      ],
      "metadata": {
        "colab": {
          "base_uri": "https://localhost:8080/",
          "height": 472
        },
        "id": "MvtDkSFMz6wG",
        "outputId": "b40c2a7b-1738-491e-dec2-0f98b70eeb6d"
      },
      "execution_count": null,
      "outputs": [
        {
          "output_type": "display_data",
          "data": {
            "text/plain": [
              "<Figure size 640x480 with 1 Axes>"
            ],
            "image/png": "[encoded data removed]"
          },
          "metadata": {}
        }
      ]
    },
    {
      "cell_type": "markdown",
      "source": [
        "The models aren't doing a good job of telling the difference between the two groups because the AUC value is 0.5"
      ],
      "metadata": {
        "id": "3DNxxz491jji"
      }
    },
    {
      "cell_type": "markdown",
      "metadata": {
        "id": "khFZzPmTv4a9"
      },
      "source": [
        "## Exercise 3\n",
        "\n",
        "Design and implement at least 3 different DNN models. Train them and compare performance. You may try different architectures, loss functions, and optimizers to see if there is an effect."
      ]
    },
    {
      "cell_type": "code",
      "source": [
        "import pandas as pd\n",
        "import numpy as np\n",
        "from tensorflow.keras.models import Sequential\n",
        "from tensorflow.keras.layers import Dense, Dropout\n",
        "from sklearn.metrics import roc_auc_score\n",
        "from sklearn.model_selection import train_test_split\n",
        "\n",
        "# Load the dataset\n",
        "filename = \"/content/SUSY.csv\"\n",
        "VarNames = [\"signal\", \"l_1_pT\", \"l_1_eta\", \"l_1_phi\", \"l_2_pT\", \"l_2_eta\", \"l_2_phi\", \"MET\", \"MET_phi\", \"MET_rel\", \"axial_MET\", \"M_R\", \"M_TR_2\", \"R\", \"MT2\", \"S_R\", \"M_Delta_R\", \"dPhi_r_b\", \"cos_theta_r1\"]\n",
        "df = pd.read_csv(filename, dtype='float64', names=VarNames)\n",
        "\n",
        "# Split the data into features and target\n",
        "X = df.drop(columns=[\"signal\"])\n",
        "y = df[\"signal\"]\n",
        "\n",
        "# Split data into training, validation, and test sets\n",
        "X_train, X_test, y_train, y_test = train_test_split(X, y, test_size=0.2, random_state=42)\n",
        "X_train, X_val, y_train, y_val = train_test_split(X_train, y_train, test_size=0.25, random_state=42)\n",
        "\n",
        "def build_model(optimizer, dropout_rate):\n",
        "    model = Sequential([\n",
        "        Dense(64, activation='relu', input_shape=(len(X.columns),)),\n",
        "        Dropout(dropout_rate),\n",
        "        Dense(64, activation='relu'),\n",
        "        Dropout(dropout_rate),\n",
        "        Dense(1, activation='sigmoid')\n",
        "    ])\n",
        "    model.compile(optimizer=optimizer, loss='binary_crossentropy', metrics=['accuracy'])\n",
        "    return model\n",
        "\n",
        "def train_and_evaluate_model(model, X_train, y_train, X_val, y_val, X_test, y_test):\n",
        "    model.fit(X_train, y_train, epochs=10, batch_size=32, validation_data=(X_val, y_val), verbose=0)\n",
        "    y_pred = model.predict(X_test)\n",
        "    auc = roc_auc_score(y_test, y_pred)\n",
        "    return auc\n",
        "\n",
        "# Define and train models with different configurations\n",
        "configs = [\n",
        "    {'optimizer': 'adam', 'dropout_rate': 0.5},\n",
        "    {'optimizer': 'rmsprop', 'dropout_rate': 0.3},\n",
        "    {'optimizer': 'sgd', 'dropout_rate': 0.2}\n",
        "]\n",
        "\n",
        "for i, config in enumerate(configs, start=1):\n",
        "    model = build_model(optimizer=config['optimizer'], dropout_rate=config['dropout_rate'])\n",
        "    auc = train_and_evaluate_model(model, X_train, y_train, X_val, y_val, X_test, y_test)\n",
        "    print(f\"Model {i} AUC: {auc:.2f}\")\n"
      ],
      "metadata": {
        "colab": {
          "base_uri": "https://localhost:8080/"
        },
        "id": "WTT2UhWs2DjU",
        "outputId": "d40012bb-7849-46f7-df17-429ab99d2d2d"
      },
      "execution_count": null,
      "outputs": [
        {
          "output_type": "stream",
          "name": "stdout",
          "text": [
            "467/467 [==============================] - 1s 2ms/step\n",
            "Model 1 AUC: 0.87\n",
            "467/467 [==============================] - 1s 2ms/step\n",
            "Model 2 AUC: 0.87\n",
            "467/467 [==============================] - 1s 1ms/step\n",
            "Model 3 AUC: 0.87\n"
          ]
        }
      ]
    },
    {
      "cell_type": "markdown",
      "source": [
        "All three models got the same score of 0.87, which is pretty good. The models are all equally good at guessing."
      ],
      "metadata": {
        "id": "hA6WHZgh3w0W"
      }
    },
    {
      "cell_type": "markdown",
      "metadata": {
        "id": "HN7vunZ1v4a-"
      },
      "source": [
        "## Exercise 4\n",
        "\n",
        "Repeat exercise 4 from Lab 7, adding your best performing DNN as one of the models.  \n"
      ]
    },
    {
      "cell_type": "code",
      "execution_count": null,
      "metadata": {
        "colab": {
          "base_uri": "https://localhost:8080/"
        },
        "id": "r38j7cg8v4a-",
        "outputId": "18ec91e9-9d27-4a55-9eb0-e6fc8fb2e96c"
      },
      "outputs": [
        {
          "output_type": "stream",
          "name": "stdout",
          "text": [
            "467/467 [==============================] - 2s 3ms/step\n",
            "Best Model AUC: 0.8674686141000771\n",
            "Low-Level Features Analysis:\n",
            "         signal  l_1_pT  l_1_eta  l_1_phi  l_2_pT  l_2_eta  l_2_phi    MET  \\\n",
            "signal    0.249   0.134   -0.000    0.001   0.064    0.002   -0.000  0.192   \n",
            "l_1_pT    0.134   0.471    0.000   -0.001   0.304    0.001    0.000  0.235   \n",
            "l_1_eta  -0.000   0.000    1.007   -0.007  -0.001    0.406    0.001 -0.005   \n",
            "l_1_phi   0.001  -0.001   -0.007    1.005   0.004   -0.004   -0.265  0.001   \n",
            "l_2_pT    0.064   0.304   -0.001    0.004   0.426   -0.001   -0.002  0.081   \n",
            "l_2_eta   0.002   0.001    0.406   -0.004  -0.001    1.009   -0.004 -0.001   \n",
            "l_2_phi  -0.000   0.000    0.001   -0.265  -0.002   -0.004    1.002 -0.001   \n",
            "MET       0.192   0.235   -0.005    0.001   0.081   -0.001   -0.001  0.776   \n",
            "MET_phi  -0.001  -0.001   -0.004   -0.189  -0.003   -0.002   -0.033  0.002   \n",
            "MET_rel   0.127   0.105   -0.006    0.001   0.004    0.000   -0.003  0.556   \n",
            "\n",
            "         MET_phi  MET_rel  \n",
            "signal    -0.001    0.127  \n",
            "l_1_pT    -0.001    0.105  \n",
            "l_1_eta   -0.004   -0.006  \n",
            "l_1_phi   -0.189    0.001  \n",
            "l_2_pT    -0.003    0.004  \n",
            "l_2_eta   -0.002    0.000  \n",
            "l_2_phi   -0.033   -0.003  \n",
            "MET        0.002    0.556  \n",
            "MET_phi    1.004   -0.003  \n",
            "MET_rel   -0.003    0.794  \n",
            "         signal  l_1_pT  l_1_eta  l_1_phi  l_2_pT  l_2_eta  l_2_phi    MET  \\\n",
            "signal    1.000   0.392   -0.001    0.003   0.197    0.003   -0.001  0.438   \n",
            "l_1_pT    0.392   1.000    0.000   -0.001   0.679    0.001    0.000  0.389   \n",
            "l_1_eta  -0.001   0.000    1.000   -0.007  -0.002    0.403    0.001 -0.006   \n",
            "l_1_phi   0.003  -0.001   -0.007    1.000   0.006   -0.004   -0.264  0.001   \n",
            "l_2_pT    0.197   0.679   -0.002    0.006   1.000   -0.001   -0.003  0.141   \n",
            "l_2_eta   0.003   0.001    0.403   -0.004  -0.001    1.000   -0.004 -0.001   \n",
            "l_2_phi  -0.001   0.000    0.001   -0.264  -0.003   -0.004    1.000 -0.001   \n",
            "MET       0.438   0.389   -0.006    0.001   0.141   -0.001   -0.001  1.000   \n",
            "MET_phi  -0.003  -0.001   -0.004   -0.188  -0.004   -0.002   -0.033  0.003   \n",
            "MET_rel   0.286   0.172   -0.006    0.001   0.008    0.000   -0.004  0.708   \n",
            "\n",
            "         MET_phi  MET_rel  \n",
            "signal    -0.003    0.286  \n",
            "l_1_pT    -0.001    0.172  \n",
            "l_1_eta   -0.004   -0.006  \n",
            "l_1_phi   -0.188    0.001  \n",
            "l_2_pT    -0.004    0.008  \n",
            "l_2_eta   -0.002    0.000  \n",
            "l_2_phi   -0.033   -0.004  \n",
            "MET        0.003    0.708  \n",
            "MET_phi    1.000   -0.003  \n",
            "MET_rel   -0.003    1.000  \n",
            "\n",
            "High-Level Features Analysis:\n",
            "              axial_MET    M_R  M_TR_2      R    MT2    S_R  M_Delta_R  \\\n",
            "axial_MET         1.024  0.015  -0.195 -0.185 -0.463 -0.047     -0.238   \n",
            "M_R               0.015  0.394   0.213 -0.113 -0.034  0.381      0.078   \n",
            "M_TR_2           -0.195  0.213   0.344  0.105  0.194  0.232      0.246   \n",
            "R                -0.185 -0.113   0.105  0.222  0.233 -0.083      0.165   \n",
            "MT2              -0.463 -0.034   0.194  0.233  0.742 -0.008      0.437   \n",
            "S_R              -0.047  0.381   0.232 -0.083 -0.008  0.384      0.100   \n",
            "M_Delta_R        -0.238  0.078   0.246  0.165  0.437  0.100      0.391   \n",
            "dPhi_r_b         -0.027 -0.028   0.059  0.087  0.022 -0.002      0.042   \n",
            "cos_theta_r1     -0.055 -0.014   0.052  0.059  0.045 -0.010      0.039   \n",
            "\n",
            "              dPhi_r_b  cos_theta_r1  \n",
            "axial_MET       -0.027        -0.055  \n",
            "M_R             -0.028        -0.014  \n",
            "M_TR_2           0.059         0.052  \n",
            "R                0.087         0.059  \n",
            "MT2              0.022         0.045  \n",
            "S_R             -0.002        -0.010  \n",
            "M_Delta_R        0.042         0.039  \n",
            "dPhi_r_b         0.190         0.009  \n",
            "cos_theta_r1     0.009         0.040  \n",
            "              axial_MET    M_R  M_TR_2      R    MT2    S_R  M_Delta_R  \\\n",
            "axial_MET         1.000  0.023  -0.329 -0.388 -0.532 -0.075     -0.376   \n",
            "M_R               0.023  1.000   0.578 -0.381 -0.063  0.981      0.199   \n",
            "M_TR_2           -0.329  0.578   1.000  0.381  0.383  0.637      0.670   \n",
            "R                -0.388 -0.381   0.381  1.000  0.575 -0.283      0.560   \n",
            "MT2              -0.532 -0.063   0.383  0.575  1.000 -0.014      0.810   \n",
            "S_R              -0.075  0.981   0.637 -0.283 -0.014  1.000      0.258   \n",
            "M_Delta_R        -0.376  0.199   0.670  0.560  0.810  0.258      1.000   \n",
            "dPhi_r_b         -0.062 -0.102   0.231  0.422  0.059 -0.007      0.154   \n",
            "cos_theta_r1     -0.271 -0.113   0.447  0.621  0.262 -0.082      0.315   \n",
            "\n",
            "              dPhi_r_b  cos_theta_r1  \n",
            "axial_MET       -0.062        -0.271  \n",
            "M_R             -0.102        -0.113  \n",
            "M_TR_2           0.231         0.447  \n",
            "R                0.422         0.621  \n",
            "MT2              0.059         0.262  \n",
            "S_R             -0.007        -0.082  \n",
            "M_Delta_R        0.154         0.315  \n",
            "dPhi_r_b         1.000         0.104  \n",
            "cos_theta_r1     0.104         1.000  \n"
          ]
        }
      ],
      "source": [
        "from sklearn.model_selection import train_test_split\n",
        "from sklearn.metrics import roc_auc_score\n",
        "import tensorflow as tf\n",
        "from tensorflow.keras.models import Sequential\n",
        "from tensorflow.keras.layers import Dense, Dropout\n",
        "\n",
        "# Load dataset\n",
        "filename = \"/content/SUSY.csv\"\n",
        "VarNames = [\"signal\", \"l_1_pT\", \"l_1_eta\", \"l_1_phi\", \"l_2_pT\", \"l_2_eta\", \"l_2_phi\", \"MET\", \"MET_phi\", \"MET_rel\", \"axial_MET\", \"M_R\", \"M_TR_2\", \"R\", \"MT2\", \"S_R\", \"M_Delta_R\", \"dPhi_r_b\", \"cos_theta_r1\"]\n",
        "df = pd.read_csv(filename, dtype='float64', names=VarNames)\n",
        "\n",
        "# Split dataset into features and target\n",
        "X = df.drop(columns=[\"signal\"])\n",
        "y = df[\"signal\"]\n",
        "\n",
        "# Split data into training and test sets\n",
        "X_train, X_test, y_train, y_test = train_test_split(X, y, test_size=0.2, random_state=42)\n",
        "\n",
        "# Define and train your best performing DNN model\n",
        "best_model = Sequential([\n",
        "    Dense(64, activation='relu', input_shape=(X_train.shape[1],)),\n",
        "    Dropout(0.5),\n",
        "    Dense(32, activation='relu'),\n",
        "    Dropout(0.5),\n",
        "    Dense(1, activation='sigmoid')\n",
        "])\n",
        "\n",
        "best_model.compile(optimizer='adam', loss='binary_crossentropy', metrics=['accuracy'])\n",
        "best_model.fit(X_train, y_train, epochs=10, batch_size=32, verbose=0)\n",
        "\n",
        "# Evaluate the best model\n",
        "auc_best = roc_auc_score(y_test, best_model.predict(X_test))\n",
        "print(\"Best Model AUC:\", auc_best)\n",
        "\n",
        "# Your provided functions\n",
        "\n",
        "def compare_pair_plots(df_susy, df_higgs, columns, selection_dict, low_level=True):\n",
        "    plt.figure(figsize=(15, 15))\n",
        "    susy_histograms = {var: np.histogram(df_susy.query(selection_dict)[var], bins=50, density=True)[0] for var in columns}\n",
        "    higgs_histograms = {var: np.histogram(df_higgs.query(selection_dict)[var], bins=50, density=True)[0] for var in columns}\n",
        "\n",
        "    for i, x_var in enumerate(columns):\n",
        "        for j, y_var in enumerate(columns):\n",
        "            plt.subplot(len(columns), len(columns), i * len(columns) + j + 1)\n",
        "            make_legend = (i == 0) and (j == 0)\n",
        "            plot_histogram(susy_histograms[x_var], 'SUSY', make_legend)\n",
        "            plot_histogram(higgs_histograms[x_var], 'Higgs', False)\n",
        "\n",
        "    plt.suptitle('Pair Plots - Low Level Features' if low_level else 'Pair Plots - High Level Features', fontsize=16)\n",
        "    plt.tight_layout()\n",
        "    plt.show()\n",
        "\n",
        "def plot_histogram(histogram, label, make_legend):\n",
        "    plt.fill_between(np.arange(len(histogram)), histogram, alpha=0.5, label=label if make_legend else None, color='blue')\n",
        "    if make_legend:\n",
        "        plt.legend()\n",
        "\n",
        "# Function to analyze dataset\n",
        "def analyze_dataset(dataset):\n",
        "    low_level_features = dataset[:, :10]\n",
        "    high_level_features = dataset[:, 10:]\n",
        "\n",
        "    covariance_low = np.cov(low_level_features, rowvar=False)\n",
        "    correlation_low = np.corrcoef(low_level_features, rowvar=False)\n",
        "    covariance_high = np.cov(high_level_features, rowvar=False)\n",
        "    correlation_high = np.corrcoef(high_level_features, rowvar=False)\n",
        "\n",
        "    print(\"Low-Level Features Analysis:\")\n",
        "    display_matrix(covariance_low, VarNames[:10])\n",
        "    display_matrix(correlation_low, VarNames[:10])\n",
        "\n",
        "    print(\"\\nHigh-Level Features Analysis:\")\n",
        "    display_matrix(covariance_high, VarNames[10:])\n",
        "    display_matrix(correlation_high, VarNames[10:])\n",
        "\n",
        "def display_matrix(matrix, headers):\n",
        "    df_matrix = pd.DataFrame(matrix, columns=headers, index=headers)\n",
        "    print(df_matrix.round(3))\n",
        "\n",
        "# show the df analysis\n",
        "dataset = df.to_numpy()\n",
        "analyze_dataset(dataset)\n"
      ]
    },
    {
      "cell_type": "markdown",
      "source": [
        "The best model's AUC is 0.867. Low-level features analysis examines their relationships, while high-level features analysis assesses derived features' impacts. Overall, it did really well."
      ],
      "metadata": {
        "id": "5s9fKkhU63gi"
      }
    }
  ],
  "metadata": {
    "kernelspec": {
      "display_name": "Python 3 (ipykernel)",
      "language": "python",
      "name": "python3"
    },
    "language_info": {
      "codemirror_mode": {
        "name": "ipython",
        "version": 3
      },
      "file_extension": ".py",
      "mimetype": "text/x-python",
      "name": "python",
      "nbconvert_exporter": "python",
      "pygments_lexer": "ipython3",
      "version": "3.10.12"
    },
    "colab": {
      "provenance": []
    }
  },
  "nbformat": 4,
  "nbformat_minor": 0
}