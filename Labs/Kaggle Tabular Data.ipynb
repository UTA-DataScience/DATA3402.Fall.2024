{
 "cells": [
  {
   "cell_type": "markdown",
   "id": "e64a1b88",
   "metadata": {},
   "source": [
    "# Tabular Kaggle Project\n",
    "\n",
    "Guideline for steps for the Kaggle Tabular Project. You will \"turn in\" a GitHub repository, modeled after [Project Template](https://github.com/UTA-DataScience/ProjectTempate) on the day of the final, Wednesday, Dec 11 at 11 – 1:30 p.m. During the final period we will have about 5 minutes to go over your project and your results.\n",
    "\n",
    "You can find a list of possible Tabular datasets here on [Excel File in Teams](https://mavsuta.sharepoint.com/:x:/r/teams/Course_2248_data_3402_001-cU7MvhRPSj18z/Shared%20Documents/General/TabularDatasets.xlsx?d=w42833a75094b46a7999548e06732a890&csf=1&web=1&e=seoB4p). You are not limited to these datasets. If you find a Kaggle challenge not listed that you would like to attempt, please go check with Dr. Farbin to make sure it is viable.\n",
    "\n",
    "This notebook outlines the steps you should follow. The file(s) in the GitHub repository should contain these steps. Note that you will be only considering classification projects.\n",
    "\n",
    "## Define Project\n",
    "\n",
    "* Provide Project link.\n",
    "* Short paragraph describing the challenge. \n",
    "* Briefly describe the data.\n"
   ]
  },
  {
   "cell_type": "markdown",
   "id": "a65cd3e3",
   "metadata": {},
   "source": [
    "## Data Loading and Initial Look\n",
    "\n",
    "* Load the data. \n",
    "* Count the number of rows (data points) and features.\n",
    "* Any missing values? \n",
    "* Make a table, where each row is a feature or collection of features:\n",
    "    * Is the feature categorical or numerical\n",
    "    * What values? \n",
    "        * e.g. for categorical: \"0,1,2\"\n",
    "        * e.g. for numerical specify the range\n",
    "    * How many missing values\n",
    "    * Do you see any outliers?\n",
    "        * Define outlier.\n",
    "* For classification is there class imbalance?\n",
    "* What is the target:\n",
    "    * Classification: how is the target encoded (e.g. 0 and 1)?\n",
    "    * Regression: what is the range?"
   ]
  },
  {
   "cell_type": "markdown",
   "id": "27c59841",
   "metadata": {},
   "source": [
    "## Data Visualization\n",
    "\n",
    "* For classification: compare histogram every feature between the classes. Lots of examples of this in class.\n",
    "* For regression: \n",
    "    * Define 2 or more class based on value of the regression target.\n",
    "        * For example: if regression target is between 0 and 1:\n",
    "            * 0.0-0.25: Class 1\n",
    "            * 0.25-0.5: Class 2\n",
    "            * 0.5-0.75: Class 3\n",
    "            * 0.75-1.0: Class 4\n",
    "    * Compare histograms of the features between the classes.\n",
    "        \n",
    "* Note that for categorical features, often times the information in the histogram could be better presented in a table.    \n",
    "* Make comments on what features look most promising for ML task."
   ]
  },
  {
   "cell_type": "markdown",
   "id": "ba73f3b0",
   "metadata": {},
   "source": [
    "## Data Cleaning and Preperation for Machine Learning\n",
    "\n",
    "* Perform any data cleaning. Be clear what are you doing, for what feature. \n",
    "* Determinine if rescaling is important for your Machine Learning model.\n",
    "    * If so select strategy for each feature.\n",
    "    * Apply rescaling.\n",
    "* Visualize the features before and after cleaning and rescaling.\n",
    "* One-hot encode your categorical features."
   ]
  },
  {
   "cell_type": "markdown",
   "id": "39c8d295",
   "metadata": {},
   "source": [
    "## Machine Learning\n",
    "\n",
    "\n",
    "### Problem Formulation\n",
    "\n",
    "* Remove unneed columns, for example:\n",
    "    * duplicated\n",
    "    * categorical features that were turned into one-hot.\n",
    "    * features that identify specific rows, like ID number.\n",
    "    * make sure your target is properly encoded also.\n",
    "* Split training sample into train, validation, and test sub-samples.\n",
    "\n",
    "### Train ML Algorithm\n",
    "\n",
    "* You only need one algorithm to work. You can do more if you like.\n",
    "* For now, focus on making it work, rather than best result.\n",
    "* Try to get a non-trivial result.\n",
    "\n",
    "### Evaluate Performance on Validation Sample\n",
    "\n",
    "* Compute the usual metric for your ML task.\n",
    "* Compute the score for the kaggle challenge.\n",
    "\n",
    "### Apply ML to the challenge test set\n",
    "\n",
    "* Once trained, apply the ML algorithm the the test dataset and generate the submission file.\n"
   ]
  },
  {
   "cell_type": "code",
   "execution_count": null,
   "id": "12b0e44d",
   "metadata": {},
   "outputs": [],
   "source": []
  }
 ],
 "metadata": {
  "kernelspec": {
   "display_name": "Python 3 (ipykernel)",
   "language": "python",
   "name": "python3"
  },
  "language_info": {
   "codemirror_mode": {
    "name": "ipython",
    "version": 3
   },
   "file_extension": ".py",
   "mimetype": "text/x-python",
   "name": "python",
   "nbconvert_exporter": "python",
   "pygments_lexer": "ipython3",
   "version": "3.9.6"
  }
 },
 "nbformat": 4,
 "nbformat_minor": 5
}
