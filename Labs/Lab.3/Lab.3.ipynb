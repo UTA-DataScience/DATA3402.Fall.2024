{
 "cells": [
  {
   "cell_type": "markdown",
   "metadata": {},
   "source": [
    "# Lab 3\n",
    "\n",
    "In this lab we will become familiar with distributions, histograms, and functional programming. Do not use numpy or any other library for this lab."
   ]
  },
  {
   "cell_type": "markdown",
   "metadata": {},
   "source": [
    "### Uniform Distribution\n",
    "Lets start with generating some fake random data. You can get a random number between 0 and 1 using the python random module as follow:"
   ]
  },
  {
   "cell_type": "code",
   "execution_count": 1,
   "metadata": {},
   "outputs": [
    {
     "name": "stdout",
     "output_type": "stream",
     "text": [
      "The Value of x is 0.5539939133894121\n"
     ]
    }
   ],
   "source": [
    "import random\n",
    "x=random.random()\n",
    "print(\"The Value of x is\", x)"
   ]
  },
  {
   "cell_type": "markdown",
   "metadata": {},
   "source": [
    "Everytime you call random, you will get a new number.\n",
    "\n",
    "*Exercise 1:* Using random, write a function `generate_uniform(N, mymin, mymax)`, that returns a python list containing N random numbers between specified minimum and maximum value. Note that you may want to quickly work out on paper how to turn numbers between 0 and 1 to between other values. "
   ]
  },
  {
   "cell_type": "code",
   "execution_count": 2,
   "metadata": {},
   "outputs": [],
   "source": [
    "# Skeleton\n",
    "def generate_uniform(N,x_min,x_max):\n",
    "    out = []\n",
    "    return [random.uniform(x_min, x_max) for _ in range(N)]\n",
    "    return out"
   ]
  },
  {
   "cell_type": "code",
   "execution_count": 3,
   "metadata": {},
   "outputs": [
    {
     "name": "stdout",
     "output_type": "stream",
     "text": [
      "Data Type: <class 'list'>\n",
      "Data Length: 1000\n",
      "Type of Data Contents: <class 'float'>\n",
      "Data Minimum: -9.983137045718227\n",
      "Data Maximum: 9.981486042470692\n"
     ]
    }
   ],
   "source": [
    "# Test your solution here\n",
    "data=generate_uniform(1000,-10,10)\n",
    "print (\"Data Type:\", type(data))\n",
    "print (\"Data Length:\", len(data))\n",
    "if len(data)>0: \n",
    "    print (\"Type of Data Contents:\", type(data[0]))\n",
    "    print (\"Data Minimum:\", min(data))\n",
    "    print (\"Data Maximum:\", max(data))"
   ]
  },
  {
   "cell_type": "markdown",
   "metadata": {},
   "source": [
    "*Exercise 2a:* \n",
    "Write a function that computes the mean of values in a list. Recall the equation for the mean of a random variable $\\bf{x}$ computed on a data set of $n$ values $\\{ x_i \\} = \\{x_1, x_2, ..., x_n\\}$  is ${\\bf\\bar{x}} = \\frac{1}{n} \\sum_i^n x_i$."
   ]
  },
  {
   "cell_type": "code",
   "execution_count": 4,
   "metadata": {},
   "outputs": [],
   "source": [
    "# Skeleton\n",
    "def mean(Data):\n",
    "    m=0.\n",
    "    return sum(Data)/len(Data)\n",
    "    return m"
   ]
  },
  {
   "cell_type": "code",
   "execution_count": 5,
   "metadata": {},
   "outputs": [
    {
     "name": "stdout",
     "output_type": "stream",
     "text": [
      "Mean of Data: -0.10743366700155592\n"
     ]
    }
   ],
   "source": [
    "# Test your solution here\n",
    "print (\"Mean of Data:\", mean(data))"
   ]
  },
  {
   "cell_type": "markdown",
   "metadata": {},
   "source": [
    "*Exercise 2b:* \n",
    "Write a function that computes the variance of values in a list. Recall the equation for the variance of a random variable $\\bf{x}$ computed on a data set of $n$ values $\\{ x_i \\} = \\{x_1, x_2, ..., x_n\\}$  is ${\\bf\\langle x \\rangle} = \\frac{1}{n} \\sum_i^n (x_i - {\\bf\\bar{x}})$."
   ]
  },
  {
   "cell_type": "code",
   "execution_count": 6,
   "metadata": {},
   "outputs": [],
   "source": [
    "# Skeleton\n",
    "def variance(Data):\n",
    "    m=0.\n",
    "    n=len(Data)\n",
    "    m=sum(Data)/n\n",
    "    return sum((x-m)**2 for x in data)/n\n",
    "    return m"
   ]
  },
  {
   "cell_type": "code",
   "execution_count": 7,
   "metadata": {},
   "outputs": [
    {
     "name": "stdout",
     "output_type": "stream",
     "text": [
      "Variance of Data: 31.746904519022852\n"
     ]
    }
   ],
   "source": [
    "# Test your solution here\n",
    "print (\"Variance of Data:\", variance(data))"
   ]
  },
  {
   "cell_type": "markdown",
   "metadata": {},
   "source": [
    "## Histogramming"
   ]
  },
  {
   "cell_type": "markdown",
   "metadata": {},
   "source": [
    "*Exercise 3:* Write a function that bins the data so that you can create a histogram. An example of how to implement histogramming is the following logic:\n",
    "\n",
    "* User inputs a list of values `x` and optionally `n_bins` which defaults to 10.\n",
    "* If not supplied, find the minimum and maximum (`x_min`,`x_max`) of the values in x.\n",
    "* Determine the bin size (`bin_size`) by dividing the range of the function by the number of bins.\n",
    "* Create an empty list of zeros of size `n_bins`, call it `hist`.\n",
    "* Loop over the values in `x`\n",
    "    * Loop over the values in `hist` with index `i`:\n",
    "        * If x is between `x_min+i*bin_size` and `x_min+(i+1)*bin_size`, increment `hist[i].` \n",
    "        * For efficiency, try to use continue to goto the next bin and data point.\n",
    "* Return `hist` and the list corresponding of the bin edges (i.e. of `x_min+i*bin_size`).    "
   ]
  },
  {
   "cell_type": "code",
   "execution_count": 13,
   "metadata": {},
   "outputs": [],
   "source": [
    "# Solution\n",
    "def histogram(x,n_bins=10,x_min=None,x_max=None):\n",
    "    if x_min is None:\n",
    "        x_min=min(data)\n",
    "    if x_max is None:\n",
    "        x_max=max(data)\n",
    "    bin_width=(x_max - x_min)/n_bins\n",
    "    bin_edges=[x_min + i *bin_width for i in range(n_bins +1)]\n",
    "    hist=[0]* n_bins\n",
    "    for d in data:\n",
    "        for i in range(n_bins):\n",
    "            if bin_edges[i] <= d< bin_edges [i + 1]:\n",
    "                hist[i] +=1\n",
    "                break\n",
    "\n",
    "    return hist,bin_edges"
   ]
  },
  {
   "cell_type": "code",
   "execution_count": 14,
   "metadata": {},
   "outputs": [
    {
     "name": "stdout",
     "output_type": "stream",
     "text": [
      "[4, 10, 14, 12, 6, 10, 8, 9, 12, 7, 7, 10, 10, 10, 6, 7, 15, 8, 15, 11, 10, 10, 15, 16, 13, 13, 9, 11, 15, 11, 5, 6, 8, 10, 10, 4, 10, 7, 12, 10, 13, 17, 9, 9, 16, 5, 12, 16, 12, 8, 13, 5, 11, 7, 11, 14, 6, 8, 11, 17, 12, 11, 14, 9, 4, 15, 12, 10, 8, 12, 4, 3, 13, 8, 9, 12, 6, 9, 4, 11, 8, 14, 14, 10, 12, 10, 13, 14, 9, 10, 8, 9, 5, 17, 3, 7, 10, 8, 7, 9]\n"
     ]
    }
   ],
   "source": [
    "# Test your solution here\n",
    "h,b=histogram(data,100)\n",
    "print(h)"
   ]
  },
  {
   "cell_type": "markdown",
   "metadata": {},
   "source": [
    "*Exercise 4:* Write a function that uses the histogram function in the previous exercise to create a text-based \"graph\". For example the output could look like the following:\n",
    "```\n",
    "[  0,  1] : ######\n",
    "[  1,  2] : #####\n",
    "[  2,  3] : ######\n",
    "[  3,  4] : ####\n",
    "[  4,  5] : ####\n",
    "[  5,  6] : ######\n",
    "[  6,  7] : #####\n",
    "[  7,  8] : ######\n",
    "[  8,  9] : ####\n",
    "[  9, 10] : #####\n",
    "```\n",
    "\n",
    "Where each line corresponds to a bin and the number of `#`'s are proportional to the value of the data in the bin. "
   ]
  },
  {
   "cell_type": "code",
   "execution_count": 15,
   "metadata": {},
   "outputs": [],
   "source": [
    "# Solution\n",
    "def draw_histogram(x,n_bins,x_min=None,x_max=None,character=\"#\",max_character_per_line=20):\n",
    "    hist,bin_edges=histogram(data,n_bins, x_min,x_max)\n",
    "    for lower_bound, upper_bound, freq in zip(bin_edges[:-1],bin_edges[1:], hist):\n",
    "        bar=character * min(freq, max_character_per_line)\n",
    "        print(f\"[{lower_bound:.2f},{upper_bound:.2f}] :{bar}\")\n",
    "    return hist,bin_edges"
   ]
  },
  {
   "cell_type": "code",
   "execution_count": 17,
   "metadata": {},
   "outputs": [
    {
     "name": "stdout",
     "output_type": "stream",
     "text": [
      "[46, 46, 43, 56, 64, 59, 39, 43, 64, 53, 47, 56, 50, 57, 37, 42, 58, 56, 42, 41] [-9.983137045718227, -8.984905891308781, -7.986674736899335, -6.9884435824898885, -5.990212428080443, -4.991981273670997, -3.9937501192615503, -2.9955189648521046, -1.9972878104426588, -0.999056656033213, -0.0008255016237672663, 0.9974056527856785, 1.995636807195126, 2.993867961604572, 3.9920991160140176, 4.990330270423463, 5.988561424832909, 6.986792579242355, 7.985023733651801, 8.983254888061246, 9.981486042470692]\n"
     ]
    }
   ],
   "source": [
    "# Test your solution here\n",
    "h,b=histogram(data,20)\n",
    "print(h,b)"
   ]
  },
  {
   "cell_type": "markdown",
   "metadata": {},
   "source": [
    "## Functional Programming\n",
    "\n",
    "*Exercise 5:* Write a function the applies a booling function (that returns true/false) to every element in data, and return a list of indices of elements where the result was true. Use this function to find the indices of entries greater than 0.5. "
   ]
  },
  {
   "cell_type": "code",
   "execution_count": 18,
   "metadata": {},
   "outputs": [],
   "source": [
    "def where(mylist,myfunc):\n",
    "    out= []\n",
    "    return [i for i, item in enumerate(mylist) if myfunc(item)]\n",
    "    \n",
    "    return out"
   ]
  },
  {
   "cell_type": "code",
   "execution_count": 20,
   "metadata": {},
   "outputs": [
    {
     "name": "stdout",
     "output_type": "stream",
     "text": [
      "[1.00,2.40] :#\n",
      "[2.40,3.80] :#\n",
      "[3.80,5.20] :#\n",
      "[5.20,6.60] :\n",
      "[6.60,8.00] :#\n"
     ]
    },
    {
     "data": {
      "text/plain": [
       "([1, 1, 1, 0, 1], [1.0, 2.4, 3.8, 5.199999999999999, 6.6, 8.0])"
      ]
     },
     "execution_count": 20,
     "metadata": {},
     "output_type": "execute_result"
    }
   ],
   "source": [
    "# Test your solution here\n",
    "data=[1,3,4,7,8]\n",
    "h,b=histogram(data,5)\n",
    "draw_histogram(data,5)"
   ]
  },
  {
   "cell_type": "markdown",
   "metadata": {},
   "source": [
    "*Exercise 6:* The `inrange(mymin,mymax)` function below returns a function that tests if it's input is between the specified values. Write corresponding functions that test:\n",
    "* Even\n",
    "* Odd\n",
    "* Greater than\n",
    "* Less than\n",
    "* Equal\n",
    "* Divisible by"
   ]
  },
  {
   "cell_type": "code",
   "execution_count": 21,
   "metadata": {},
   "outputs": [],
   "source": [
    "def in_range(mymin,mymax):\n",
    "    def testrange(x):\n",
    "        return x<mymax and x>=mymin\n",
    "    return testrange\n",
    "def even(x):\n",
    "    return x % 2==0\n",
    "def odd(x):\n",
    "    return x%2!=0\n",
    "def greater_than(val):\n",
    "    return lambda x: x>val\n",
    "def less_than(val):\n",
    "    return lambda x:x<val\n",
    "def equal_to(val):\n",
    "    return lambda x:x ==val\n",
    "def divisible_by(divisor):\n",
    "    return lambda x:x% divisor==0\n"
   ]
  },
  {
   "cell_type": "code",
   "execution_count": 25,
   "metadata": {},
   "outputs": [
    {
     "name": "stdout",
     "output_type": "stream",
     "text": [
      "True True True False False\n",
      "False False True True True\n",
      "Number of Entries passing F1: 5\n",
      "Number of Entries passing F2: 0\n"
     ]
    }
   ],
   "source": [
    "# Test your solution\n",
    "F1=in_range(0,10)\n",
    "F2=in_range(10,20)\n",
    "\n",
    "# Test of in_range\n",
    "print (F1(0), F1(1), F1(10), F1(15), F1(20))\n",
    "print (F2(0), F2(1), F2(10), F2(15), F2(20))\n",
    "\n",
    "print (\"Number of Entries passing F1:\", len(where(data,F1)))\n",
    "print (\"Number of Entries passing F2:\", len(where(data,F2)))"
   ]
  },
  {
   "cell_type": "markdown",
   "metadata": {},
   "source": [
    "*Exercise 7:* Repeat the previous exercise using `lambda` and the built-in python functions sum and map instead of your solution above. "
   ]
  },
  {
   "cell_type": "code",
   "execution_count": 24,
   "metadata": {},
   "outputs": [],
   "source": [
    "def in_range(mymin,mymax):\n",
    "    return lambda x:mymin<=x<=mymax\n",
    "even=lambda x:x%2==0\n",
    "odd=lambda x:x%2!=0\n",
    "greater_than=lambda val:lambda x:x>val\n",
    "less_than=lambda val: lambda x:x<val\n",
    "equal_to=lambda val: lambda x:x==val\n",
    "divisible_by=lambda divisor: lambda x: x % divisor ==0"
   ]
  },
  {
   "cell_type": "code",
   "execution_count": 26,
   "metadata": {},
   "outputs": [
    {
     "name": "stdout",
     "output_type": "stream",
     "text": [
      "False False False True True\n",
      "False False True True True\n"
     ]
    }
   ],
   "source": [
    "F1 = in_range(15,30)\n",
    "F2 = in_range(10,20)\n",
    "\n",
    "print(F1(0), F1(1), F1(10), F1(15), F1(20))\n",
    "print(F2(0), F2(1), F2(10), F2(15), F2(20))"
   ]
  },
  {
   "cell_type": "markdown",
   "metadata": {},
   "source": [
    "## Monte Carlo\n",
    "\n",
    "*Exercise 7:* Write a \"generator\" function called `generate_function(func,x_min,x_max,N)`, that instead of generating a flat distribution, generates a distribution with functional form coded in `func`. Note that `func` will always be > 0.  \n",
    "\n",
    "Use the test function below and your histogramming functions above to demonstrate that your generator is working properly.\n",
    "\n",
    "Hint: A simple, but slow, solution is to a draw random number `test_x` within the specified range and another number `p` between the `min` and `max` of the function (which you will have to determine). If `p<=function(test_x)`, then place `test_x` on the output. If not, repeat the process, drawing two new numbers. Repeat until you have the specified number of generated numbers, `N`. For this problem, it's OK to determine the `min` and `max` by numerically sampling the function.  "
   ]
  },
  {
   "cell_type": "code",
   "execution_count": 31,
   "metadata": {},
   "outputs": [],
   "source": [
    "def generate_function(func,x_min,x_max,N=1000):\n",
    "    out = list()\n",
    "    min_val=float('inf')\n",
    "    max_val=float('-inf')\n",
    "    for _ in range(1000):\n",
    "        test_x = random.uniform(x_min,x_max)\n",
    "        test_y =func(test_x)\n",
    "        min_val=min(min_val,test_y)\n",
    "        max_val= max(max_val, test_y)\n",
    "    while len(out) <N:\n",
    "        test_x=random.uniform(x_min,x_max)\n",
    "        test_y= random.uniform(min_val,max_val)\n",
    "        if test_y <=func(test_x):\n",
    "            out.append(test_x)\n",
    "    return out"
   ]
  },
  {
   "cell_type": "code",
   "execution_count": 32,
   "metadata": {},
   "outputs": [
    {
     "name": "stdout",
     "output_type": "stream",
     "text": [
      "[-10.00,-9.00] :\n",
      "[-9.00,-8.00] :\n",
      "[-8.00,-7.00] :\n",
      "[-7.00,-6.00] :\n",
      "[-6.00,-5.00] :\n",
      "[-5.00,-4.00] :\n",
      "[-4.00,-3.00] :\n",
      "[-3.00,-2.00] :\n",
      "[-2.00,-1.00] :\n",
      "[-1.00,0.00] :\n",
      "[0.00,1.00] :\n",
      "[1.00,2.00] :#\n",
      "[2.00,3.00] :\n",
      "[3.00,4.00] :#\n",
      "[4.00,5.00] :#\n",
      "[5.00,6.00] :\n",
      "[6.00,7.00] :\n",
      "[7.00,8.00] :#\n",
      "[8.00,9.00] :#\n",
      "[9.00,10.00] :\n"
     ]
    }
   ],
   "source": [
    "# A test function\n",
    "def test_func(x,a=1,b=1):\n",
    "    return abs(a*x+b)\n",
    "generated_data = generate_function(test_func, -10, 10, N=1000)\n",
    "histogram_result = draw_histogram(generated_data, n_bins=20, x_min=-10, x_max=10)"
   ]
  },
  {
   "cell_type": "markdown",
   "metadata": {},
   "source": [
    "*Exercise 8:* Use your function to generate 1000 numbers that are normal distributed, using the `gaussian` function below. Confirm the mean and variance of the data is close to the mean and variance you specify when building the Gaussian. Histogram the data. "
   ]
  },
  {
   "cell_type": "code",
   "execution_count": 33,
   "metadata": {},
   "outputs": [],
   "source": [
    "import math\n",
    "\n",
    "def gaussian(mean, sigma):\n",
    "    def f(x):\n",
    "        return math.exp(-((x-mean)**2)/(2*sigma**2))/math.sqrt(math.pi*sigma)\n",
    "    return f\n",
    "\n",
    "# Example Instantiation\n",
    "g1=gaussian(0,1)\n",
    "g2=gaussian(10,3)\n",
    "\n",
    "def random_float(min_val, max_val):\n",
    "    return min_val + (max_val - min_val) * random.random()"
   ]
  },
  {
   "cell_type": "code",
   "execution_count": 34,
   "metadata": {},
   "outputs": [
    {
     "name": "stdout",
     "output_type": "stream",
     "text": [
      "Mean: 0.027602688408844424\n",
      "Variance: 1.021906916145067\n",
      "[-5.00,-4.50] :\n",
      "[-4.50,-4.00] :\n",
      "[-4.00,-3.50] :\n",
      "[-3.50,-3.00] :\n",
      "[-3.00,-2.50] :\n",
      "[-2.50,-2.00] :\n",
      "[-2.00,-1.50] :\n",
      "[-1.50,-1.00] :\n",
      "[-1.00,-0.50] :\n",
      "[-0.50,0.00] :\n",
      "[0.00,0.50] :\n",
      "[0.50,1.00] :\n",
      "[1.00,1.50] :#\n",
      "[1.50,2.00] :\n",
      "[2.00,2.50] :\n",
      "[2.50,3.00] :\n",
      "[3.00,3.50] :#\n",
      "[3.50,4.00] :\n",
      "[4.00,4.50] :#\n",
      "[4.50,5.00] :\n"
     ]
    }
   ],
   "source": [
    "generated_data = generate_function(g1, -5, 5, N=1000)\n",
    "\n",
    "# Calculate mean and variance\n",
    "mean = sum(generated_data) / len(generated_data)\n",
    "variance = sum((x - mean) ** 2 for x in generated_data) / len(generated_data)\n",
    "\n",
    "print(\"Mean:\", mean)\n",
    "print(\"Variance:\", variance)\n",
    "\n",
    "# Histogram the data\n",
    "histogram_result = draw_histogram(generated_data, n_bins=20, x_min=-5, x_max=5)"
   ]
  },
  {
   "cell_type": "markdown",
   "metadata": {},
   "source": [
    "*Exercise 9:* Combine your `generate_function`, `where`, and `in_range` functions above to create an integrate function. Use your integrate function to show that approximately 68% of Normal distribution is within one variance."
   ]
  },
  {
   "cell_type": "code",
   "execution_count": 35,
   "metadata": {},
   "outputs": [],
   "source": [
    "def integrate(func, x_min, x_max, n_points=1000):\n",
    "    \n",
    "    return integral"
   ]
  },
  {
   "cell_type": "code",
   "execution_count": 36,
   "metadata": {},
   "outputs": [],
   "source": [
    "def integrate(func, x_min, x_max, n_points=1000):\n",
    "    count_inside = 0\n",
    "    for _ in range(n_points):\n",
    "        x = random.uniform(x_min, x_max)\n",
    "        y = random.uniform(0, 1)\n",
    "        if y <= func(x):\n",
    "            count_inside += 1\n",
    "    return count_inside / n_points * (x_max - x_min)\n",
    "    return integral\n",
    "\n",
    "def gaussian(mean, sigma):\n",
    "    def f(x):\n",
    "        return math.exp(-((x - mean) ** 2) / (2 * sigma ** 2)) / math.sqrt(2 * math.pi * sigma)\n",
    "    return f\n",
    "\n",
    "def generate_function(func, x_min, x_max, N=1000):\n",
    "    out = list()\n",
    "    min_val = float('inf')\n",
    "    max_val = float('-inf')\n",
    "\n",
    "    for _ in range(1000):\n",
    "        test_x = random.uniform(x_min, x_max)\n",
    "        test_y = func(test_x)\n",
    "        min_val = min(min_val, test_y)\n",
    "        max_val = max(max_val, test_y)\n",
    "\n",
    "    while len(out) < N:\n",
    "        test_x = random.uniform(x_min, x_max)\n",
    "        test_y = random.uniform(min_val, max_val)\n",
    "        if test_y <= func(test_x):\n",
    "            out.append(test_x)\n",
    "\n",
    "    return out\n",
    "\n",
    "def where(mylist, myfunc):\n",
    "    return [i for i, item in enumerate(mylist) if myfunc(item)]\n",
    "\n",
    "def in_range(mymin, mymax):\n",
    "    def testrange(x):\n",
    "        return mymin <= x < mymax\n",
    "    return testrange"
   ]
  },
  {
   "cell_type": "code",
   "execution_count": 37,
   "metadata": {},
   "outputs": [
    {
     "name": "stdout",
     "output_type": "stream",
     "text": [
      "The percentage of normal distribution within one standard deviation is 68.60000000000001 %\n"
     ]
    }
   ],
   "source": [
    "g1 = gaussian(0, 1)\n",
    "\n",
    "# Integrate the gaussian function within one standard deviation\n",
    "integral_within_one_std = integrate(g1, -1, 1)\n",
    "print(\"The percentage of normal distribution within one standard deviation is\", integral_within_one_std * 100, \"%\")\n"
   ]
  }
 ],
 "metadata": {
  "kernelspec": {
   "display_name": "Python 3 (ipykernel)",
   "language": "python",
   "name": "python3"
  },
  "language_info": {
   "codemirror_mode": {
    "name": "ipython",
    "version": 3
   },
   "file_extension": ".py",
   "mimetype": "text/x-python",
   "name": "python",
   "nbconvert_exporter": "python",
   "pygments_lexer": "ipython3",
   "version": "3.12.1"
  }
 },
 "nbformat": 4,
 "nbformat_minor": 4
}
