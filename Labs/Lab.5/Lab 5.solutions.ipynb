{
 "cells": [
  {
   "cell_type": "markdown",
   "id": "1efe8b8e",
   "metadata": {},
   "source": [
    "# Lab 5"
   ]
  },
  {
   "cell_type": "markdown",
   "id": "fe840dd1",
   "metadata": {},
   "source": [
    "#### In this lab you will be creating a simple linear algebra system. In memory, we will represent matrices as nested python lists as we have done in lecture. In the exercises below, you are required to explicitly test every feature you implement, demosntrating it works.\n"
   ]
  },
  {
   "cell_type": "code",
   "execution_count": 6,
   "id": "bddccbb4",
   "metadata": {},
   "outputs": [],
   "source": [
    "#1.\n",
    "class Matrix:\n",
    "    def __init__(self, n=None, m=None, values=None):\n",
    "        if values:\n",
    "            self.matrix = values\n",
    "            self.rows = len(values)\n",
    "            self.cols = len(values[0])\n",
    "            for row in values:\n",
    "                if len(row) != self.cols:\n",
    "                    raise ValueError(\"All rows should have the same number of columns\")\n",
    "        elif n is not None and m is not None:\n",
    "            self.matrix = [[0 for _ in range(m)] for _ in range(n)]\n",
    "            self.rows = n\n",
    "            self.cols = m\n",
    "        else:\n",
    "            raise ValueError(\"Invalid initialization parameters\")\n",
    "\n",
    "    def __getitem__(self, indices):\n",
    "        row, col = indices\n",
    "        return self.matrix[row][col]\n",
    "\n",
    "    def __setitem__(self, indices, value):\n",
    "        row, col = indices\n",
    "        self.matrix[row][col] = value\n",
    "\n",
    "    def __repr__(self):\n",
    "        return f\"Matrix({self.matrix})\"\n",
    "\n",
    "    def __eq__(self, other):\n",
    "        if isinstance(other, Matrix):\n",
    "            if self.rows != other.rows or self.cols != other.cols:\n",
    "                raise ValueError(\"Matrices must be the same size for assignment\")\n",
    "            self.matrix = [row[:] for row in other.matrix]\n",
    "        elif isinstance(other, list):\n",
    "            if self.rows != len(other) or self.cols != len(other[0]):\n",
    "                raise ValueError(\"List of lists must be the same size as the matrix\")\n",
    "            for row in other:\n",
    "                if len(row) != self.cols:\n",
    "                    raise ValueError(\"All rows in the list of lists must have the same number of columns\")\n",
    "            self.matrix = other\n",
    "        else:\n",
    "            raise ValueError(\"Right-hand side must be a Matrix or list of lists\")\n",
    "        return self"
   ]
  },
  {
   "cell_type": "code",
   "execution_count": 2,
   "id": "b9b532d9",
   "metadata": {},
   "outputs": [
    {
     "name": "stdout",
     "output_type": "stream",
     "text": [
      "Matrix([[0, 0, 0], [0, 0, 0], [0, 0, 0]])\n"
     ]
    }
   ],
   "source": [
    "# Seeing if it works:\n",
    "\n",
    "M1 = Matrix(3, 3)\n",
    "print(M1)"
   ]
  },
  {
   "cell_type": "code",
   "execution_count": 3,
   "id": "1611380b",
   "metadata": {},
   "outputs": [
    {
     "name": "stdout",
     "output_type": "stream",
     "text": [
      "Matrix([[1, 2, 3], [4, 5, 6], [7, 8, 9]])\n"
     ]
    }
   ],
   "source": [
    "M2 = Matrix(values=[[1, 2, 3], [4, 5, 6], [7, 8, 9]])\n",
    "print(M2)"
   ]
  },
  {
   "cell_type": "code",
   "execution_count": 4,
   "id": "0d3165aa",
   "metadata": {},
   "outputs": [
    {
     "name": "stdout",
     "output_type": "stream",
     "text": [
      "5\n",
      "Matrix([[1, 2, 3], [4, 5, 6], [7, 8, 10]])\n"
     ]
    }
   ],
   "source": [
    "print(M2[1, 1])  \n",
    "M2[2, 2] = 10\n",
    "print(M2)"
   ]
  },
  {
   "cell_type": "code",
   "execution_count": 5,
   "id": "1ceaadec",
   "metadata": {},
   "outputs": [
    {
     "name": "stdout",
     "output_type": "stream",
     "text": [
      "Matrix([[1, 2, 3], [4, 5, 6], [7, 8, 10]])\n",
      "Matrix([[7, 8, 9], [4, 5, 6], [1, 2, 3]])\n"
     ]
    }
   ],
   "source": [
    "M1 = M2\n",
    "print(M1)\n",
    "M1 = Matrix(values=[[7, 8, 9], [4, 5, 6], [1, 2, 3]])\n",
    "print(M1)\n"
   ]
  },
  {
   "cell_type": "code",
   "execution_count": 14,
   "id": "257ea4c1",
   "metadata": {},
   "outputs": [],
   "source": [
    "#2.\n",
    "class Matrix:\n",
    "    def __init__(self, n=None, m=None, values=None):\n",
    "        if values:\n",
    "            self.matrix = values\n",
    "            self.rows = len(values)\n",
    "            self.cols = len(values[0])\n",
    "            for row in values:\n",
    "                if len(row) != self.cols:\n",
    "                    raise ValueError(\"All rows should have the same number of columns\")\n",
    "        elif n is not None and m is not None:\n",
    "            self.matrix = [[0 for _ in range(m)] for _ in range(n)]\n",
    "            self.rows = n\n",
    "            self.cols = m\n",
    "        else:\n",
    "            raise ValueError(\"Invalid initialization parameters\")\n",
    "\n",
    "    def shape(self):\n",
    "        return (self.rows, self.cols)\n",
    "    \n",
    "    def transpose(self):\n",
    "        transposed_matrix = [[self.matrix[j][i] for j in range(self.rows)] for i in range(self.cols)]\n",
    "        return Matrix(values=transposed_matrix)\n",
    "    \n",
    "    def row(self, n):\n",
    "        if not (0 <= n < self.rows):\n",
    "            raise ValueError(\"Row index out of range\")\n",
    "        return Matrix(values=[self.matrix[n]])\n",
    "    \n",
    "    def column(self, n):\n",
    "        if not (0 <= n < self.cols):\n",
    "            raise ValueError(\"Column index out of range\")\n",
    "        col_matrix = [[self.matrix[i][n]] for i in range(self.rows)]\n",
    "        return Matrix(values=col_matrix)\n",
    "    \n",
    "    def to_list(self):\n",
    "        return self.matrix\n",
    "    \n",
    "    def block(self, n_0, n_1, m_0, m_1):\n",
    "        if not (0 <= n_0 < n_1 <= self.rows and 0 <= m_0 < m_1 <= self.cols):\n",
    "            raise ValueError(\"Invalid block indices\")\n",
    "        block_matrix = [row[m_0:m_1] for row in self.matrix[n_0:n_1]]\n",
    "        return Matrix(values=block_matrix)\n",
    "    \n",
    "    def __getitem__(self, indices):\n",
    "        if isinstance(indices, tuple):\n",
    "            row, col = indices \n",
    "            if isinstance(row, slice) or isinstance(col, slice):\n",
    "                row_start, row_stop, row_step = row.indices(self.rows) if isinstance(row, slice) else (row, row+1, 1)\n",
    "                col_start, col_stop, col_step = col.indices(self.cols) if isinstance(col, slice) else (col, col+1, 1)\n",
    "                \n",
    "                sliced_matrix = [self.matrix[r][col_start:col_stop:col_step] for r in range(row_start, row_stop, row_step)]\n",
    "                return Matrix(values=sliced_matrix)\n",
    "            return self.matrix[row][col]\n",
    "        else:\n",
    "            raise TypeError(\"Invalid index type\")\n",
    "    \n",
    "    def __setitem__(self, indices, value):\n",
    "        row, col = indices \n",
    "        self.matrix[row][col] = value\n",
    "\n",
    "    def __repr__(self):\n",
    "        return f\"Matrix({self.matrix})\"\n",
    "\n",
    "            \n",
    "\n",
    "        \n",
    "        \n",
    "        \n",
    "    \n",
    "       \n",
    "        "
   ]
  },
  {
   "cell_type": "code",
   "execution_count": 15,
   "id": "de4ca301",
   "metadata": {},
   "outputs": [
    {
     "name": "stdout",
     "output_type": "stream",
     "text": [
      "(3, 3)\n"
     ]
    }
   ],
   "source": [
    "M1 = Matrix(3,3)\n",
    "print(M1.shape())"
   ]
  },
  {
   "cell_type": "code",
   "execution_count": 16,
   "id": "5cd1ffc4",
   "metadata": {},
   "outputs": [
    {
     "name": "stdout",
     "output_type": "stream",
     "text": [
      "(3, 3)\n"
     ]
    }
   ],
   "source": [
    "M2 = Matrix(values=[[1,2,3],[4,5,6],[7,8,9]])\n",
    "print(M2.shape())"
   ]
  },
  {
   "cell_type": "code",
   "execution_count": 17,
   "id": "c18218e9",
   "metadata": {},
   "outputs": [
    {
     "name": "stdout",
     "output_type": "stream",
     "text": [
      "[[1, 2, 3], [4, 5, 6], [7, 8, 9]]\n"
     ]
    }
   ],
   "source": [
    "print(M2.to_list())"
   ]
  },
  {
   "cell_type": "code",
   "execution_count": 18,
   "id": "53ab9811",
   "metadata": {},
   "outputs": [
    {
     "name": "stdout",
     "output_type": "stream",
     "text": [
      "Matrix([[2, 3], [5, 6]])\n"
     ]
    }
   ],
   "source": [
    "print(M2.block(0, 2, 1, 3)) "
   ]
  },
  {
   "cell_type": "code",
   "execution_count": 19,
   "id": "5ad684a9",
   "metadata": {},
   "outputs": [
    {
     "name": "stdout",
     "output_type": "stream",
     "text": [
      "Matrix([[1, 4, 7], [2, 5, 8], [3, 6, 9]])\n"
     ]
    }
   ],
   "source": [
    "print(M2.transpose())"
   ]
  },
  {
   "cell_type": "code",
   "execution_count": 20,
   "id": "061fc52a",
   "metadata": {},
   "outputs": [
    {
     "name": "stdout",
     "output_type": "stream",
     "text": [
      "Matrix([[4, 5, 6]])\n"
     ]
    }
   ],
   "source": [
    "print(M2.row(1))"
   ]
  },
  {
   "cell_type": "code",
   "execution_count": 21,
   "id": "ac5b6f04",
   "metadata": {},
   "outputs": [
    {
     "name": "stdout",
     "output_type": "stream",
     "text": [
      "Matrix([[2], [5], [8]])\n"
     ]
    }
   ],
   "source": [
    "print(M2.column(1))"
   ]
  },
  {
   "cell_type": "code",
   "execution_count": 22,
   "id": "fdb35d96",
   "metadata": {},
   "outputs": [
    {
     "name": "stdout",
     "output_type": "stream",
     "text": [
      "5\n"
     ]
    }
   ],
   "source": [
    "print(M2[1, 1])"
   ]
  },
  {
   "cell_type": "code",
   "execution_count": 23,
   "id": "d730f0ff",
   "metadata": {},
   "outputs": [
    {
     "name": "stdout",
     "output_type": "stream",
     "text": [
      "Matrix([[2, 3], [5, 6]])\n"
     ]
    }
   ],
   "source": [
    "print(M2[0:2, 1:3])"
   ]
  },
  {
   "cell_type": "code",
   "execution_count": 28,
   "id": "20e5f614",
   "metadata": {},
   "outputs": [],
   "source": [
    "#3.\n",
    "\n",
    "class Matrix_S:\n",
    "    def __init__(self, n=None, m=None, values=None):\n",
    "        if values:\n",
    "            self.matrix = values\n",
    "            self.rows = len(values)\n",
    "            self.cols = len(values[0])\n",
    "            for row in values:\n",
    "                if len(row) != self.cols:\n",
    "                    raise ValueError(\"All rows should have the same number of columns\")\n",
    "        elif n is not None and m is not None:\n",
    "            self.matrix = [[0 for _ in range(m)] for _ in range(n)]\n",
    "            self.rows = n\n",
    "            self.cols = m\n",
    "        else:\n",
    "            raise ValueError(\"Invalid initialization parameters\")\n",
    "            \n",
    "    \n",
    "    def constant(n, m, c):\n",
    "        return Matrix_S(values=[[float(c) for _ in range(m)] for _ in range(n)])\n",
    "    \n",
    "   \n",
    "    def zeros(n, m):\n",
    "        return Matrix_S(values=[[float(0) for _ in range(m)] for _ in range(n)])\n",
    "    \n",
    "    \n",
    "    def ones(n, m):\n",
    "        return Matrix_S(values=[[float(1) for _ in range(m)] for _ in range(n)])\n",
    "    \n",
    "    \n",
    "    def eye(n):\n",
    "        return Matrix_S(values=[[float(1) if i == j else float(0) for j in range(n)] for i in range(n)])\n",
    "\n",
    "    def shape(self):\n",
    "        return (self.rows, self.cols)\n",
    "\n",
    "    def to_list(self):\n",
    "        return self.matrix\n",
    "\n",
    "    \n",
    "        "
   ]
  },
  {
   "cell_type": "code",
   "execution_count": 29,
   "id": "9e44e471",
   "metadata": {},
   "outputs": [
    {
     "name": "stdout",
     "output_type": "stream",
     "text": [
      "[[5.5, 5.5, 5.5], [5.5, 5.5, 5.5], [5.5, 5.5, 5.5]]\n",
      "[[0.0, 0.0, 0.0], [0.0, 0.0, 0.0], [0.0, 0.0, 0.0]]\n",
      "[[1.0, 1.0, 1.0], [1.0, 1.0, 1.0], [1.0, 1.0, 1.0]]\n",
      "[[1.0, 0.0, 0.0], [0.0, 1.0, 0.0], [0.0, 0.0, 1.0]]\n"
     ]
    }
   ],
   "source": [
    "# Testing the Matrix_S class\n",
    "# Create a constant matrix\n",
    "M_constant = Matrix_S.constant(3, 3, 5.5)\n",
    "print(M_constant.to_list())  \n",
    "\n",
    "# Create a zeros matrix\n",
    "M_zeros = Matrix_S.zeros(3, 3)\n",
    "print(M_zeros.to_list()) \n",
    "\n",
    "# Create a ones matrix\n",
    "M_ones = Matrix_S.ones(3, 3)\n",
    "print(M_ones.to_list())  \n",
    "\n",
    "# Create an identity matrix\n",
    "M_eye = Matrix_S.eye(3)\n",
    "print(M_eye.to_list())  \n",
    "    \n",
    "        "
   ]
  },
  {
   "cell_type": "code",
   "execution_count": 43,
   "id": "db222ff3",
   "metadata": {},
   "outputs": [
    {
     "ename": "IndentationError",
     "evalue": "unindent does not match any outer indentation level (<string>, line 6)",
     "output_type": "error",
     "traceback": [
      "\u001b[0;36m  File \u001b[0;32m<string>:6\u001b[0;36m\u001b[0m\n\u001b[0;31m    return Matrix_S(values=result_matrix)\u001b[0m\n\u001b[0m                                         ^\u001b[0m\n\u001b[0;31mIndentationError\u001b[0m\u001b[0;31m:\u001b[0m unindent does not match any outer indentation level\n"
     ]
    }
   ],
   "source": [
    "#4: \n",
    "class Matrix_S:\n",
    "    \n",
    "    def M.scalarmul(self, c):\n",
    "         result_matrix = [[self.matrix[i][j] * c for j in range(self.cols)] for i in range(self.rows)]\n",
    "        return Matrix_S(values=result_matrix)\n",
    "    \n",
    "    def M.add(self, N):\n",
    "        if self.shape() != N.shape():\n",
    "            raise ValueError(\"Matrices must have the same dimensions to be added\")\n",
    "        result_matrix = [[self.matrix[i][j] + N.matrix[i][j] for j in range(self.cols)] for i in range(self.rows)]\n",
    "        return Matrix_S(values=result_matrix)\n",
    "    \n",
    "    def M.sub(self, N):\n",
    "        if self.shape() != N.shape():\n",
    "            raise ValueError(\"Matrices mush have the same dimensions to be subtracted\")\n",
    "        result_matrix = [[self.matrix[i][j] - N.matrix[i][j] for j in range(self.cols)] for i in range(self.rows)]\n",
    "        return Matrix_S(values = result_matrix)\n",
    "    \n",
    "    def M.mat_mult(self, N):\n",
    "        if self.shape[j] != N.shape[j]:\n",
    "            raise ValueError(\"Matrices mush have the same columns to be multiplied\")\n",
    "        result_matrix = [[self.matrix[i][j] * N.matrix[i][j] for for j in range(self.cols)] for i in range(self.rows)]\n",
    "        return Matrix_S(values = result_matrix)\n",
    "    \n",
    "    def M.element_mult(self, N):\n",
    "        if self.shape() != N.shape():\n",
    "            raise ValueeError(\"Matrices must have the same dimensions for element-wise multiplication\")\n",
    "        result_matrix = [[self.matrix[i][j] * N.matrix[i][j] for j in range(self.cols)] for i in range(self.rows)]\n",
    "        return Matrix_S(values=result_matrix)\n",
    "        \n",
    "    def M.equals(N): \n",
    "        if M == N:\n",
    "            return True\n",
    "        else:\n",
    "            return False\n",
    "        \n",
    "        \n",
    "        \n",
    "    "
   ]
  },
  {
   "cell_type": "code",
   "execution_count": 44,
   "id": "b56d6ccf",
   "metadata": {},
   "outputs": [],
   "source": [
    "# I do not know how to solve that. \n",
    "# Tried to indent it and rewrite it but it did not work for number 4"
   ]
  },
  {
   "cell_type": "code",
   "execution_count": 46,
   "id": "3faed31c",
   "metadata": {},
   "outputs": [],
   "source": [
    "#5. \n",
    "class Matrix_S:\n",
    "    def __init__(self, n=None, m=None, values=None):\n",
    "        if values:\n",
    "            self.matrix = values\n",
    "            self.rows = len(values)\n",
    "            self.cols = len(values[0])\n",
    "            for row in values:\n",
    "                if len(row) != self.cols:\n",
    "                    raise ValueError(\"All rows should have the same number of columns\")\n",
    "        elif n is not None and m is not None:\n",
    "            self.matrix = [[0 for _ in range(m)] for _ in range(n)]\n",
    "            self.rows = n\n",
    "            self.cols = m\n",
    "        else:\n",
    "            raise ValueError(\"Invalid initialization parameters\")\n",
    "            \n",
    "\n",
    "    def constant(n, m, c):\n",
    "        return Matrix_S(values=[[float(c) for _ in range(m)] for _ in range(n)])\n",
    "\n",
    "    def zeros(n, m):\n",
    "        return Matrix_S(values=[[float(0) for _ in range(m)] for _ in range(n)])\n",
    "    \n",
    "\n",
    "    def ones(n, m):\n",
    "        return Matrix_S(values=[[float(1) for _ in range(m)] for _ in range(n)])\n",
    "\n",
    "    def eye(n):\n",
    "        return Matrix_S(values=[[float(1) if i == j else float(0) for j in range(n)] for i in range(n)])\n",
    "\n",
    "    def shape(self):\n",
    "        return (self.rows, self.cols)\n",
    "    \n",
    "    def to_list(self):\n",
    "        return self.matrix\n",
    "    \n",
    "    def scalarmul(self, c):\n",
    "        result_matrix = [[self.matrix[i][j] * c for j in range(self.cols)] for i in range(self.rows)]\n",
    "        return Matrix_S(values=result_matrix)\n",
    "\n",
    "    def add(self, other):\n",
    "        if self.shape() != other.shape():\n",
    "            raise ValueError(\"Matrices must have the same dimensions to be added\")\n",
    "        result_matrix = [[self.matrix[i][j] + other.matrix[i][j] for j in range(self.cols)] for i in range(self.rows)]\n",
    "        return Matrix_S(values=result_matrix)\n",
    "\n",
    "    def sub(self, other):\n",
    "        if self.shape() != other.shape():\n",
    "            raise ValueError(\"Matrices must have the same dimensions to be subtracted\")\n",
    "        result_matrix = [[self.matrix[i][j] - other.matrix[i][j] for j in range(self.cols)] for i in range(self.rows)]\n",
    "        return Matrix_S(values=result_matrix)\n",
    "\n",
    "    def mat_mult(self, other):\n",
    "        if self.cols != other.rows:\n",
    "            raise ValueError(\"Matrices are not aligned for matrix multiplication\")\n",
    "        result_matrix = [[sum(self.matrix[i][k] * other.matrix[k][j] for k in range(self.cols)) for j in range(other.cols)] for i in range(self.rows)]\n",
    "        return Matrix_S(values=result_matrix)\n",
    "\n",
    "    def element_mult(self, other):\n",
    "        if self.shape() != other.shape():\n",
    "            raise ValueError(\"Matrices must have the same dimensions for element-wise multiplication\")\n",
    "        result_matrix = [[self.matrix[i][j] * other.matrix[i][j] for j in range(self.cols)] for i in range(self.rows)]\n",
    "        return Matrix_S(values=result_matrix)\n",
    "\n",
    "    def equals(self, other):\n",
    "        if self.shape() != other.shape():\n",
    "            return False\n",
    "        return all(self.matrix[i][j] == other.matrix[i][j] for i in range(self.rows) for j in range(self.cols))\n",
    "\n",
    "    def __eq__(self, other):\n",
    "        return self.equals(other)\n",
    "    \n",
    "    def __mul__(self, other):\n",
    "        if isinstance(other, (int, float)):\n",
    "            return self.scalarmul(other)\n",
    "        else:\n",
    "            return self.mat_mult(other)\n",
    "    \n",
    "    def __rmul__(self, other):\n",
    "        return self.__mul__(other)\n",
    "    \n",
    "    def __add__(self, other):\n",
    "        return self.add(other)\n",
    "    \n",
    "    def __sub__(self, other):\n",
    "        return self.sub(other)\n",
    "\n",
    "    def __repr__(self):\n",
    "        return f\"Matrix_S({self.matrix})\"\n",
    "\n"
   ]
  },
  {
   "cell_type": "code",
   "execution_count": 47,
   "id": "a4b06468",
   "metadata": {},
   "outputs": [
    {
     "name": "stdout",
     "output_type": "stream",
     "text": [
      "Matrix_S([[2, 4, 6], [8, 10, 12], [14, 16, 18]])\n",
      "Matrix_S([[2, 4, 6], [8, 10, 12], [14, 16, 18]])\n",
      "Matrix_S([[10, 10, 10], [10, 10, 10], [10, 10, 10]])\n",
      "Matrix_S([[-8, -6, -4], [-2, 0, 2], [4, 6, 8]])\n",
      "Matrix_S([[30, 24, 18], [84, 69, 54], [138, 114, 90]])\n"
     ]
    }
   ],
   "source": [
    "# Initialize two matrices\n",
    "M1 = Matrix_S(values=[[1, 2, 3], [4, 5, 6], [7, 8, 9]])\n",
    "M2 = Matrix_S(values=[[9, 8, 7], [6, 5, 4], [3, 2, 1]])\n",
    "\n",
    "# Scalar multiplication\n",
    "M_scaled_1 = 2 * M1\n",
    "M_scaled_2 = M1 * 2\n",
    "print(M_scaled_1)  \n",
    "print(M_scaled_2)  \n",
    "\n",
    "# Matrix addition\n",
    "M_added = M1 + M2\n",
    "print(M_added)  \n",
    "\n",
    "# Matrix subtraction\n",
    "M_subtracted = M1 - M2\n",
    "print(M_subtracted)  \n",
    "\n",
    "# Matrix multiplication\n",
    "M_mult = M1 * M2\n",
    "print(M_mult)  \n",
    "\n",
    "# Equality check\n",
    "M_equals = M1 == M2"
   ]
  },
  {
   "cell_type": "code",
   "execution_count": 48,
   "id": "83368c26",
   "metadata": {},
   "outputs": [
    {
     "name": "stdout",
     "output_type": "stream",
     "text": [
      "Associativity of Matrix Multiplication: (AB)C = A(BC)\n",
      "Matrix_S([[413, 454], [937, 1030]])\n",
      "Matrix_S([[413, 454], [937, 1030]])\n",
      "\n",
      "Distributivity of Matrix Multiplication: A(B + C) = AB + AC\n",
      "Matrix_S([[50, 56], [114, 128]])\n",
      "Matrix_S([[50, 56], [114, 128]])\n",
      "\n",
      "Non-commutativity of Matrix Multiplication: AB ≠ BA\n",
      "Matrix_S([[19, 22], [43, 50]])\n",
      "Matrix_S([[23, 34], [31, 46]])\n",
      "\n",
      "Identity Matrix: AI = A\n",
      "Matrix_S([[1, 2], [3, 4]])\n",
      "Matrix_S([[1.0, 2.0], [3.0, 4.0]])\n"
     ]
    }
   ],
   "source": [
    "#6. \n",
    "# Create two 2x2 matrices\n",
    "A = Matrix_S(values=[[1, 2], [3, 4]])\n",
    "B = Matrix_S(values=[[5, 6], [7, 8]])\n",
    "C = Matrix_S(values=[[9, 10], [11, 12]])\n",
    "\n",
    "# Define the identity matrix\n",
    "I = Matrix_S.eye(2)\n",
    "\n",
    "# 1. Associativity of Matrix Multiplication: (AB)C = A(BC)\n",
    "AB = A * B\n",
    "ABC_1 = AB * C\n",
    "BC = B * C\n",
    "ABC_2 = A * BC\n",
    "\n",
    "print(\"Associativity of Matrix Multiplication: (AB)C = A(BC)\")\n",
    "print(ABC_1)  # Should be the same as ABC_2\n",
    "print(ABC_2)\n",
    "\n",
    "# 2. Distributivity of Matrix Multiplication: A(B + C) = AB + AC\n",
    "B_plus_C = B + C\n",
    "A_times_B_plus_C = A * B_plus_C\n",
    "AB = A * B\n",
    "AC = A * C\n",
    "A_times_B_plus_AC = AB + AC\n",
    "\n",
    "print(\"\\nDistributivity of Matrix Multiplication: A(B + C) = AB + AC\")\n",
    "print(A_times_B_plus_C)  # Should be the same as A_times_B_plus_AC\n",
    "print(A_times_B_plus_AC)\n",
    "\n",
    "# 3. Non-commutativity of Matrix Multiplication: AB ≠ BA\n",
    "AB = A * B\n",
    "BA = B * A\n",
    "\n",
    "print(\"\\nNon-commutativity of Matrix Multiplication: AB ≠ BA\")\n",
    "print(AB)\n",
    "print(BA)\n",
    "\n",
    "# 4. Identity Matrix: AI = A\n",
    "AI = A * I\n",
    "\n",
    "print(\"\\nIdentity Matrix: AI = A\")\n",
    "print(A)\n",
    "print(AI)\n"
   ]
  },
  {
   "cell_type": "code",
   "execution_count": null,
   "id": "20e1a39e",
   "metadata": {},
   "outputs": [],
   "source": []
  }
 ],
 "metadata": {
  "kernelspec": {
   "display_name": "Python 3 (ipykernel)",
   "language": "python",
   "name": "python3"
  },
  "language_info": {
   "codemirror_mode": {
    "name": "ipython",
    "version": 3
   },
   "file_extension": ".py",
   "mimetype": "text/x-python",
   "name": "python",
   "nbconvert_exporter": "python",
   "pygments_lexer": "ipython3",
   "version": "3.12.3"
  }
 },
 "nbformat": 4,
 "nbformat_minor": 5
}
