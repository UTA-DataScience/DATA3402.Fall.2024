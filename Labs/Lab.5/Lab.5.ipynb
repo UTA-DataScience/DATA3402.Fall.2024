{
 "cells": [
  {
   "cell_type": "markdown",
   "metadata": {
    "id": "4uMffVwNZxmr"
   },
   "source": [
    "# Lab 5\n"
   ]
  },
  {
   "cell_type": "markdown",
   "metadata": {
    "id": "SSaTc21zZxmv"
   },
   "source": [
    "Matrix Representation: In this lab you will be creating a simple linear algebra system. In memory, we will represent matrices as nested python lists as we have done in lecture.\n",
    "\n",
    "1. Create a `matrix` class with the following properties:\n",
    "    * It can be initialized in 2 ways:\n",
    "        1. with arguments `n` and `m`, the size of the matrix. A newly instanciated matrix will contain all zeros.\n",
    "        2. with a list of lists of values. Note that since we are using lists of lists to implement matrices, it is possible that not all rows have the same number of columns. Test explicitly that the matrix is properly specified.\n",
    "    * Matrix instances `M` can be indexed with `M[i][j]` and `M[i,j]`.\n",
    "    * Matrix assignment works in 2 ways:\n",
    "        1. If `M_1` and `M_2` are `matrix` instances `M_1=M_2` sets the values of `M_1` to those of `M_2`, if they are the same size. Error otherwise.\n",
    "        2. In example above `M_2` can be a list of lists of correct size.\n"
   ]
  },
  {
   "cell_type": "code",
   "execution_count": 1,
   "metadata": {
    "id": "3eM2yb7XZxmz"
   },
   "outputs": [],
   "source": [
    "class Matrix:\n",
    "    def __init__(self, *args):\n",
    "        self.data = args[0] if len(args) == 1 and isinstance(args[0], list) else [[0] * args[1] for _ in range(args[0])]\n",
    "\n",
    "    def __getitem__(self, key):\n",
    "        return self.data[key]\n",
    "\n",
    "    def __setitem__(self, key, value):\n",
    "        self.data[key] = value if isinstance(key, int) else value[0] if isinstance(value, list) else value\n",
    "\n",
    "    def __eq__(self, other):\n",
    "        return isinstance(other, Matrix) and self.data == other.data\n"
   ]
  },
  {
   "cell_type": "code",
   "execution_count": 2,
   "metadata": {
    "colab": {
     "base_uri": "https://localhost:8080/"
    },
    "id": "RZbhUorsZxm1",
    "outputId": "7509682e-02bc-46fa-a649-2a7de2652af2"
   },
   "outputs": [
    {
     "name": "stdout",
     "output_type": "stream",
     "text": [
      "M1.data: [[0, 0, 0], [0, 0, 0]]\n",
      "M2.data: [[1, 2, 3], [4, 5, 6]]\n",
      "2\n",
      "6\n",
      "M1.data: [[5, 0, 0], [0, 0, 0]]\n",
      "M1.data: [[1, 2, 3], [4, 5, 6]]\n"
     ]
    }
   ],
   "source": [
    "M1 = Matrix(2, 3)\n",
    "print(\"M1.data:\", M1.data)\n",
    "\n",
    "M2 = Matrix([[1, 2, 3], [4, 5, 6]])\n",
    "print(\"M2.data:\", M2.data)\n",
    "\n",
    "print(M2[0][1])\n",
    "print(M2[1][2])\n",
    "\n",
    "# Assignment\n",
    "M1[0][0] = 5\n",
    "print(\"M1.data:\", M1.data)\n",
    "\n",
    "M1 = M2\n",
    "print(\"M1.data:\", M1.data)"
   ]
  },
  {
   "cell_type": "markdown",
   "metadata": {
    "id": "pIRlLR1nZxm3"
   },
   "source": [
    "2. Add the following methods:\n",
    "    * `shape()`: returns a tuple `(n,m)` of the shape of the matrix.\n",
    "    * `transpose()`: returns a new matrix instance which is the transpose of the matrix.\n",
    "    * `row(n)` and `column(n)`: that return the nth row or column of the matrix M as a new appropriately shaped matrix object.\n",
    "    * `to_list()`: which returns the matrix as a list of lists.\n",
    "    *  `block(n_0,n_1,m_0,m_1)` that returns a smaller matrix located at the n_0 to n_1 columns and m_0 to m_1 rows.\n",
    "    * (Extra credit) Modify `__getitem__` implemented above to support slicing.\n",
    "        "
   ]
  },
  {
   "cell_type": "code",
   "execution_count": 3,
   "metadata": {
    "id": "5D4i_OudZxm3"
   },
   "outputs": [],
   "source": [
    "class Matrix:\n",
    "    def __init__(self, *args):\n",
    "        self.data = args[0] if len(args) == 1 and isinstance(args[0], list) else [[0] * args[1] for _ in range(args[0])]\n",
    "\n",
    "    def __getitem__(self, key):\n",
    "        if isinstance(key, tuple):\n",
    "            return self.data[key[0]][key[1]] if len(key) == 2 else self.data[key[0]]\n",
    "        return self.data[key]\n",
    "\n",
    "    def __setitem__(self, key, value):\n",
    "        self.data[key] = value if isinstance(key, int) else value[0] if isinstance(value, list) else value\n",
    "\n",
    "    def __eq__(self, other):\n",
    "        return isinstance(other, Matrix) and self.data == other.data\n",
    "\n",
    "    def shape(self):\n",
    "        return len(self.data), len(self.data[0])\n",
    "\n",
    "    def transpose(self):\n",
    "        return Matrix(list(zip(*self.data)))\n",
    "\n",
    "    def row(self, n):\n",
    "        return Matrix([self.data[n]])\n",
    "\n",
    "    def column(self, n):\n",
    "        return Matrix([[self.data[i][n]] for i in range(len(self.data))])\n",
    "\n",
    "    def to_list(self):\n",
    "        return self.data\n",
    "\n",
    "    def block(self, n_0, n_1, m_0, m_1):\n",
    "        return Matrix([row[n_0:n_1] for row in self.data])\n"
   ]
  },
  {
   "cell_type": "code",
   "execution_count": 4,
   "metadata": {
    "colab": {
     "base_uri": "https://localhost:8080/"
    },
    "id": "J5gI0MI1Zxm4",
    "outputId": "6fb5bb01-1f36-401c-b996-97ba3ee11dbc"
   },
   "outputs": [
    {
     "name": "stdout",
     "output_type": "stream",
     "text": [
      "Shape of M1: (2, 3)\n",
      "Transpose of M1: [(0, 0), (0, 0), (0, 0)]\n",
      "Row 1 of M1: [[0, 0, 0]]\n",
      "Column 2 of M1: [[0], [0]]\n",
      "M1 as list: [[0, 0, 0], [0, 0, 0]]\n",
      "Block from M1: [[0, 0], [0, 0]]\n",
      "Shape of M2: (2, 3)\n",
      "Transpose of M2: [(1, 4), (2, 5), (3, 6)]\n",
      "Row 0 of M2: [[1, 2, 3]]\n",
      "Column 1 of M2: [[2], [5]]\n",
      "M2 as list: [[1, 2, 3], [4, 5, 6]]\n",
      "Block from M2: [[1], [4]]\n"
     ]
    }
   ],
   "source": [
    "\n",
    "M1 = Matrix(2, 3)\n",
    "print(\"Shape of M1:\", M1.shape())\n",
    "print(\"Transpose of M1:\", M1.transpose().to_list())\n",
    "print(\"Row 1 of M1:\", M1.row(1).to_list())\n",
    "print(\"Column 2 of M1:\", M1.column(2).to_list())\n",
    "print(\"M1 as list:\", M1.to_list())\n",
    "print(\"Block from M1:\", M1.block(0, 2, 0, 1).to_list())\n",
    "\n",
    "\n",
    "M2 = Matrix([[1, 2, 3], [4, 5, 6]])\n",
    "print(\"Shape of M2:\", M2.shape())\n",
    "print(\"Transpose of M2:\", M2.transpose().to_list())\n",
    "print(\"Row 0 of M2:\", M2.row(0).to_list())\n",
    "print(\"Column 1 of M2:\", M2.column(1).to_list())\n",
    "print(\"M2 as list:\", M2.to_list())\n",
    "print(\"Block from M2:\", M2.block(0, 1, 0, 2).to_list())"
   ]
  },
  {
   "cell_type": "markdown",
   "metadata": {
    "id": "4T47xvz_Zxm6"
   },
   "source": [
    "3. Write functions that create special matrices (note these are standalone functions, not member functions of your `matrix` class):\n",
    "    * `constant(n,m,c)`: returns a `n` by `m` matrix filled with floats of value `c`.\n",
    "    * `zeros(n,m)` and `ones(n,m)`: return `n` by `m` matrices filled with floats of value `0` and `1`, respectively.\n",
    "    * `eye(n)`: returns the n by n identity matrix."
   ]
  },
  {
   "cell_type": "code",
   "execution_count": 5,
   "metadata": {
    "id": "5Fsm57K-Zxm7"
   },
   "outputs": [],
   "source": [
    "def constant(n, m, c):\n",
    "    return Matrix([[c] * m] * n)\n",
    "\n",
    "def zeros(n, m):\n",
    "    return constant(n, m, 0)\n",
    "\n",
    "def ones(n, m):\n",
    "    return constant(n, m, 1)\n",
    "\n",
    "def eye(n):\n",
    "    return Matrix([[1 if i == j else 0 for j in range(n)] for i in range(n)])"
   ]
  },
  {
   "cell_type": "code",
   "execution_count": 6,
   "metadata": {
    "colab": {
     "base_uri": "https://localhost:8080/"
    },
    "id": "erjYNm1rZxm8",
    "outputId": "3e10034b-3748-473c-dae5-2b94454ab08f"
   },
   "outputs": [
    {
     "name": "stdout",
     "output_type": "stream",
     "text": [
      "Constant matrix:\n",
      "[[5, 5], [5, 5], [5, 5]]\n",
      "Zeros matrix:\n",
      "[[0, 0, 0, 0], [0, 0, 0, 0]]\n",
      "Ones matrix:\n",
      "[[1, 1, 1], [1, 1, 1], [1, 1, 1]]\n",
      "Identity matrix:\n",
      "[[1, 0, 0, 0], [0, 1, 0, 0], [0, 0, 1, 0], [0, 0, 0, 1]]\n"
     ]
    }
   ],
   "source": [
    "print(\"Constant matrix:\")\n",
    "print(constant(3, 2, 5).to_list())\n",
    "\n",
    "print(\"Zeros matrix:\")\n",
    "print(zeros(2, 4).to_list())\n",
    "\n",
    "print(\"Ones matrix:\")\n",
    "print(ones(3, 3).to_list())\n",
    "\n",
    "print(\"Identity matrix:\")\n",
    "print(eye(4).to_list())"
   ]
  },
  {
   "cell_type": "markdown",
   "metadata": {
    "id": "g-3ikzg3Zxm-"
   },
   "source": [
    "4. Add the following member functions to your class. Make sure to appropriately test the dimensions of the matrices to make sure the operations are correct.\n",
    "    * `M.scalarmul(c)`: a matrix that is scalar product $cM$, where every element of $M$ is multiplied by $c$.\n",
    "    * `M.add(N)`: adds two matrices $M$ and $N$. Don’t forget to test that the sizes of the matrices are compatible for this and all other operations.\n",
    "    * `M.sub(N)`: subtracts two matrices $M$ and $N$.\n",
    "    * `M.mat_mult(N)`: returns a matrix that is the matrix product of two matrices $M$ and $N$.\n",
    "    * `M.element_mult(N)`: returns a matrix that is the element-wise product of two matrices $M$ and $N$.\n",
    "    * `M.equals(N)`: returns true/false if $M==N$."
   ]
  },
  {
   "cell_type": "code",
   "execution_count": 7,
   "metadata": {
    "id": "iCWjnziOZxm_"
   },
   "outputs": [],
   "source": [
    "class Matrix:\n",
    "    def __init__(self, matrix):\n",
    "        self.matrix = matrix\n",
    "        self.rows = len(matrix)\n",
    "        self.cols = len(matrix[0])\n",
    "\n",
    "    def __eq__(self, other):\n",
    "        return isinstance(other, self.__class__) and self.matrix == other.matrix\n",
    "\n",
    "    def __repr__(self):\n",
    "        return f\"Matrix({self.matrix})\"\n",
    "\n",
    "    def _operate(self, other, operator):\n",
    "        if not isinstance(other, self.__class__):\n",
    "            raise ValueError(\"Operand must be a Matrix\")\n",
    "        if self.rows != other.rows or self.cols != other.cols:\n",
    "            raise ValueError(\"Matrices must have the same dimensions\")\n",
    "\n",
    "        return Matrix([\n",
    "            [operator(x, y) for x, y in zip(row1, row2)]\n",
    "            for row1, row2 in zip(self.matrix, other.matrix)\n",
    "        ])\n",
    "\n",
    "    def scalar_mul(self, c):\n",
    "        if not isinstance(c, (int, float)):\n",
    "            raise ValueError(\"Scalar must be a number\")\n",
    "\n",
    "        return self._operate(Matrix([[c] * self.cols] * self.rows), lambda x, y: x * y)\n",
    "\n",
    "    def add(self, other):\n",
    "        return self._operate(other, lambda x, y: x + y)\n",
    "\n",
    "    def subtract(self, other):\n",
    "        return self._operate(other, lambda x, y: x - y)\n",
    "\n",
    "    def mat_mult(self, other):\n",
    "        if self.cols != other.rows:\n",
    "            raise ValueError(\"Matrices are not compatible for multiplication\")\n",
    "\n",
    "        transposed_other = list(zip(*other.matrix))\n",
    "        return Matrix([\n",
    "            [sum(a * b for a, b in zip(row1, col2)) for col2 in transposed_other]\n",
    "            for row1 in self.matrix\n",
    "        ])\n"
   ]
  },
  {
   "cell_type": "code",
   "execution_count": 9,
   "metadata": {
    "colab": {
     "base_uri": "https://localhost:8080/"
    },
    "id": "DFMpvwIeZxnA",
    "outputId": "27a84dd6-662b-4358-91b5-b717cc131946"
   },
   "outputs": [
    {
     "name": "stdout",
     "output_type": "stream",
     "text": [
      "All tests passed successfully!\n"
     ]
    }
   ],
   "source": [
    "#test to check\n",
    "\n",
    "def test_matrix_operations():\n",
    "\n",
    "    matrix1 = Matrix([[1, 2], [3, 4]])\n",
    "    matrix2 = Matrix([[5, 6], [7, 8]])\n",
    "\n",
    "\n",
    "    assert matrix1 == matrix1\n",
    "    assert repr(matrix1) == \"Matrix([[1, 2], [3, 4]])\"\n",
    "    assert matrix1.scalar_mul(2) == Matrix([[2, 4], [6, 8]])\n",
    "    assert matrix1.add(matrix2) == Matrix([[6, 8], [10, 12]])\n",
    "    assert matrix1.subtract(matrix2) == Matrix([[-4, -4], [-4, -4]])\n",
    "    assert matrix1.mat_mult(matrix2) == Matrix([[19, 22], [43, 50]])\n",
    "\n",
    "    print(\"All tests passed successfully!\")\n",
    "\n",
    "test_matrix_operations()\n"
   ]
  },
  {
   "cell_type": "markdown",
   "metadata": {
    "id": "a3oajZgsZxnB"
   },
   "source": [
    "5. Overload python operators to appropriately use your functions in 4 and allow expressions like:\n",
    "    * 2*M\n",
    "    * M*2\n",
    "    * M+N\n",
    "    * M-N\n",
    "    * M*N\n",
    "    * M==N\n",
    "    * M=N\n"
   ]
  },
  {
   "cell_type": "code",
   "execution_count": 10,
   "metadata": {
    "id": "NMPmBI-JZxnC"
   },
   "outputs": [],
   "source": [
    "#guess:\n",
    "class Matrix:\n",
    "    def __init__(self, matrix):\n",
    "        self.matrix = matrix\n",
    "        self.rows = len(matrix)\n",
    "        self.cols = len(matrix[0])\n",
    "\n",
    "    def __eq__(self, other):\n",
    "        return isinstance(other, self.__class__) and self.matrix == other.matrix\n",
    "\n",
    "    def __repr__(self):\n",
    "        return f\"Matrix({self.matrix})\"\n",
    "\n",
    "    def _operate(self, other, operator):\n",
    "        if not isinstance(other, self.__class__):\n",
    "            raise ValueError(\"Operand must be a Matrix\")\n",
    "        if self.rows != other.rows or self.cols != other.cols:\n",
    "            raise ValueError(\"Matrices must have the same dimensions\")\n",
    "        return Matrix([[operator(x, y) for x, y in zip(row1, row2)] for row1, row2 in zip(self.matrix, other.matrix)])\n",
    "\n",
    "    def scalar_mul(self, c):\n",
    "        if not isinstance(c, (int, float)):\n",
    "            raise ValueError(\"Scalar must be a number\")\n",
    "        return self._operate(Matrix([[c] * self.cols] * self.rows), lambda x, y: x * y)\n",
    "\n",
    "    def __mul__(self, other):\n",
    "        if isinstance(other, (int, float)):\n",
    "            return self.scalar_mul(other)\n",
    "        elif isinstance(other, self.__class__):\n",
    "            if self.cols != other.rows:\n",
    "                raise ValueError(\"Matrices are not compatible for multiplication\")\n",
    "            transposed_other = list(zip(*other.matrix))\n",
    "            return Matrix([[sum(a * b for a, b in zip(row1, col2)) for col2 in transposed_other] for row1 in self.matrix])\n",
    "        else:\n",
    "            raise ValueError(\"Unsupported operand type for *\")\n",
    "\n",
    "    def __rmul__(self, other):\n",
    "        return self.scalar_mul(other)\n",
    "\n",
    "    def __add__(self, other):\n",
    "        return self._operate(other, lambda x, y: x + y)\n",
    "\n",
    "    def __sub__(self, other):\n",
    "        return self._operate(other, lambda x, y: x - y)"
   ]
  },
  {
   "cell_type": "code",
   "execution_count": 11,
   "metadata": {
    "id": "AztaICYSZxnF"
   },
   "outputs": [],
   "source": [
    "def test_matrix_operations():\n",
    "    M = Matrix([[2, 3], [4, 5]])\n",
    "    N = Matrix([[6, 7], [8, 9]])\n",
    "\n",
    "    assert 2 * M == Matrix([[4, 6], [8, 10]])\n",
    "    assert M * 2 == Matrix([[4, 6], [8, 10]])\n",
    "    assert M + N == Matrix([[8, 10], [12, 14]])\n",
    "    assert M - N == Matrix([[-4, -4], [-4, -4]])\n",
    "    assert M * N == Matrix([[36, 41], [64, 73]])\n",
    "    assert M == Matrix([[2, 3], [4, 5]])\n",
    "    assert M == M\n",
    "\n",
    "    print(\"All tests passed!\")\n"
   ]
  },
  {
   "cell_type": "code",
   "execution_count": 12,
   "metadata": {
    "colab": {
     "base_uri": "https://localhost:8080/"
    },
    "id": "ygFkLz4XZxnG",
    "outputId": "b86761c8-e502-4ca1-9ba1-873b5c49830d"
   },
   "outputs": [
    {
     "name": "stdout",
     "output_type": "stream",
     "text": [
      "All tests passed!\n"
     ]
    }
   ],
   "source": [
    "# Run the test cases\n",
    "test_matrix_operations()"
   ]
  },
  {
   "cell_type": "markdown",
   "metadata": {
    "id": "pfY_e6TmZxnH"
   },
   "source": [
    "6. Demonstrate the basic properties of matrices with your matrix class by creating two 2 by 2 example matrices using your Matrix class and illustrating the following:\n",
    "\n",
    "$$\n",
    "(AB)C=A(BC)\n",
    "$$\n",
    "$$\n",
    "A(B+C)=AB+AC\n",
    "$$\n",
    "$$\n",
    "AB\\neq BA\n",
    "$$\n",
    "$$\n",
    "AI=A\n",
    "$$"
   ]
  },
  {
   "cell_type": "code",
   "execution_count": 13,
   "metadata": {
    "id": "cxayNkugZxnH"
   },
   "outputs": [],
   "source": [
    "class Matrix:\n",
    "    def __init__(self, matrix):\n",
    "        self.matrix = matrix\n",
    "\n",
    "    def __mul__(self, other):\n",
    "        if isinstance(other, Matrix):\n",
    "            return Matrix([[sum(a * b for a, b in zip(row1, col2)) for col2 in zip(*other.matrix)] for row1 in self.matrix])\n",
    "        elif isinstance(other, (int, float)):\n",
    "            return Matrix([[element * other for element in row] for row in self.matrix])\n",
    "        else:\n",
    "            raise ValueError(\"Unsupported operand type for *\")\n",
    "\n",
    "    def __add__(self, other):\n",
    "        return Matrix([[a + b for a, b in zip(row1, row2)] for row1, row2 in zip(self.matrix, other.matrix)])\n",
    "\n",
    "    def __sub__(self, other):\n",
    "        return Matrix([[a - b for a, b in zip(row1, row2)] for row1, row2 in zip(self.matrix, other.matrix)])\n",
    "\n",
    "    def __eq__(self, other):\n",
    "        return self.matrix == other.matrix\n",
    "\n",
    "    def __repr__(self):\n",
    "        return f\"Matrix({self.matrix})\""
   ]
  },
  {
   "cell_type": "code",
   "execution_count": 14,
   "metadata": {
    "id": "ud5EfsuxZxnI"
   },
   "outputs": [],
   "source": [
    "## Matrices\n",
    "A = Matrix([[1, 2], [3, 4]])\n",
    "B = Matrix([[5, 6], [7, 8]])\n",
    "C = Matrix([[9, 10], [11, 12]])"
   ]
  },
  {
   "cell_type": "code",
   "execution_count": 15,
   "metadata": {
    "colab": {
     "base_uri": "https://localhost:8080/"
    },
    "id": "R-KQbgXqZxnI",
    "outputId": "690cf4ac-1f9e-4ff2-ac7e-8cdd578ef9c2"
   },
   "outputs": [
    {
     "name": "stdout",
     "output_type": "stream",
     "text": [
      "(AB)C = Matrix([[413, 454], [937, 1030]])\n",
      "A(B*C) = Matrix([[413, 454], [937, 1030]])\n",
      "(AB)C == A(B*C): True\n"
     ]
    }
   ],
   "source": [
    "# (AB)C = A(BC)\n",
    "print(\"(AB)C =\", (A * B) * C)\n",
    "print(\"A(B*C) =\", A * (B * C))\n",
    "print(\"(AB)C == A(B*C):\", (A * B) * C == A * (B * C))"
   ]
  },
  {
   "cell_type": "code",
   "execution_count": 16,
   "metadata": {
    "colab": {
     "base_uri": "https://localhost:8080/"
    },
    "id": "LH7mqxBRZxnJ",
    "outputId": "6ae2ee78-2716-4de9-87f1-9be602861eed"
   },
   "outputs": [
    {
     "name": "stdout",
     "output_type": "stream",
     "text": [
      "A(B+C) = Matrix([[50, 56], [114, 128]])\n",
      "AB + AC = Matrix([[50, 56], [114, 128]])\n",
      "A(B+C) == AB + AC: True\n"
     ]
    }
   ],
   "source": [
    "# A(B+C) = AB + AC\n",
    "print(\"A(B+C) =\", A * (B + C))\n",
    "print(\"AB + AC =\", A * B + A * C)\n",
    "print(\"A(B+C) == AB + AC:\", A * (B + C) == A * B + A * C)"
   ]
  },
  {
   "cell_type": "code",
   "execution_count": 17,
   "metadata": {
    "colab": {
     "base_uri": "https://localhost:8080/"
    },
    "id": "9TpsaWZxZxnJ",
    "outputId": "ebbe650f-7431-4446-bf01-2bb1261be583"
   },
   "outputs": [
    {
     "name": "stdout",
     "output_type": "stream",
     "text": [
      "AB = Matrix([[19, 22], [43, 50]])\n",
      "BA = Matrix([[23, 34], [31, 46]])\n",
      "AB != BA: True\n"
     ]
    }
   ],
   "source": [
    "# AB != BA\n",
    "print(\"AB =\", A * B)\n",
    "print(\"BA =\", B * A)\n",
    "print(\"AB != BA:\", A * B != B * A)"
   ]
  },
  {
   "cell_type": "code",
   "execution_count": 18,
   "metadata": {
    "colab": {
     "base_uri": "https://localhost:8080/"
    },
    "id": "X8KCSMw8ZxnK",
    "outputId": "070f0b18-072f-4244-cc20-d763443bc6cb"
   },
   "outputs": [
    {
     "name": "stdout",
     "output_type": "stream",
     "text": [
      "AI = Matrix([[1, 2], [3, 4]])\n",
      "AI == A: True\n"
     ]
    }
   ],
   "source": [
    "# AI = A\n",
    "I = Matrix([[1, 0], [0, 1]])\n",
    "print(\"AI =\", A * I)\n",
    "print(\"AI == A:\", A * I == A)"
   ]
  },
  {
   "cell_type": "code",
   "execution_count": 1,
   "metadata": {},
   "outputs": [
    {
     "name": "stdout",
     "output_type": "stream",
     "text": [
      "('Clubs', 2)\n",
      "('Clubs', 3)\n",
      "('Clubs', 4)\n",
      "('Clubs', 5)\n",
      "('Clubs', 6)\n",
      "('Clubs', 7)\n",
      "('Clubs', 8)\n",
      "('Clubs', 9)\n",
      "('Clubs', 10)\n",
      "('Clubs', 'Jack')\n",
      "('Clubs', 'Queen')\n",
      "('Clubs', 'King')\n",
      "('Clubs', 'Ace')\n",
      "('Diamonds', 2)\n",
      "('Diamonds', 3)\n",
      "('Diamonds', 4)\n",
      "('Diamonds', 5)\n",
      "('Diamonds', 6)\n",
      "('Diamonds', 7)\n",
      "('Diamonds', 8)\n",
      "('Diamonds', 9)\n",
      "('Diamonds', 10)\n",
      "('Diamonds', 'Jack')\n",
      "('Diamonds', 'Queen')\n",
      "('Diamonds', 'King')\n",
      "('Diamonds', 'Ace')\n",
      "('Hearts', 2)\n",
      "('Hearts', 3)\n",
      "('Hearts', 4)\n",
      "('Hearts', 5)\n",
      "('Hearts', 6)\n",
      "('Hearts', 7)\n",
      "('Hearts', 8)\n",
      "('Hearts', 9)\n",
      "('Hearts', 10)\n",
      "('Hearts', 'Jack')\n",
      "('Hearts', 'Queen')\n",
      "('Hearts', 'King')\n",
      "('Hearts', 'Ace')\n",
      "('Spades', 2)\n",
      "('Spades', 3)\n",
      "('Spades', 4)\n",
      "('Spades', 5)\n",
      "('Spades', 6)\n",
      "('Spades', 7)\n",
      "('Spades', 8)\n",
      "('Spades', 9)\n",
      "('Spades', 10)\n",
      "('Spades', 'Jack')\n",
      "('Spades', 'Queen')\n",
      "('Spades', 'King')\n",
      "('Spades', 'Ace')\n"
     ]
    }
   ],
   "source": [
    "#QUIZ 2\n",
    "\n",
    "\n",
    "def make_deck():\n",
    "    suits = ['Clubs', 'Diamonds', 'Hearts', 'Spades']\n",
    "    values = [2, 3, 4, 5, 6, 7, 8, 9, 10, 'Jack', 'Queen', 'King', 'Ace']\n",
    "    \n",
    "    deck = [(suit, value) for suit in suits for value in values]\n",
    "    return deck\n",
    "\n",
    "# Example usage\n",
    "if __name__ == \"__main__\":\n",
    "    deck = make_deck()\n",
    "    for card in deck:\n",
    "        print(card)"
   ]
  }
 ],
 "metadata": {
  "colab": {
   "provenance": []
  },
  "kernelspec": {
   "display_name": "Python 3 (ipykernel)",
   "language": "python",
   "name": "python3"
  },
  "language_info": {
   "codemirror_mode": {
    "name": "ipython",
    "version": 3
   },
   "file_extension": ".py",
   "mimetype": "text/x-python",
   "name": "python",
   "nbconvert_exporter": "python",
   "pygments_lexer": "ipython3",
   "version": "3.12.1"
  }
 },
 "nbformat": 4,
 "nbformat_minor": 4
}
